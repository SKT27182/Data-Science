{
 "cells": [
  {
   "cell_type": "markdown",
   "metadata": {},
   "source": [
    "### Extracting"
   ]
  },
  {
   "cell_type": "code",
   "execution_count": 2,
   "metadata": {},
   "outputs": [
    {
     "name": "stdout",
     "output_type": "stream",
     "text": [
      "Extracting C1_week3.tar.gz\n",
      "Extracting C1_week2.tar.gz\n",
      "Extracting C1_week1.tar.gz\n"
     ]
    }
   ],
   "source": [
    "import tarfile\n",
    "import os\n",
    "\n",
    "for root, _, files in os.walk(os.getcwd()):\n",
    "    for file in files:\n",
    "        if file.endswith('.tar.gz'):\n",
    "            print(f\"Extracting {file}\")\n",
    "            file_path = os.path.join(root, file)\n",
    "            tar_ref  = tarfile.open(name=file_path)\n",
    "            tar_ref.extractall(file_path[:-7])\n",
    "            tar_ref.close()"
   ]
  },
  {
   "cell_type": "markdown",
   "metadata": {},
   "source": [
    "### Deleting tar files"
   ]
  },
  {
   "cell_type": "code",
   "execution_count": 3,
   "metadata": {},
   "outputs": [
    {
     "name": "stdout",
     "output_type": "stream",
     "text": [
      "Deleting C1_week3.tar.gz\n",
      "Deleting C1_week2.tar.gz\n",
      "Deleting C1_week1.tar.gz\n"
     ]
    }
   ],
   "source": [
    "import send2trash\n",
    "\n",
    "for folder, _, files in os.walk(os.curdir):\n",
    "    for file in files:\n",
    "        if file.endswith('.tar.gz'):\n",
    "            print(f\"Deleting {file}\")\n",
    "            file_path = os.path.join(folder, file)\n",
    "            send2trash.send2trash(file_path)"
   ]
  },
  {
   "cell_type": "markdown",
   "metadata": {},
   "source": [
    "### Removing whitespace"
   ]
  },
  {
   "cell_type": "code",
   "execution_count": 4,
   "metadata": {},
   "outputs": [
    {
     "name": "stdout",
     "output_type": "stream",
     "text": [
      "C1_W2_Lab04_FiguresAndanimations.pptx\n",
      "oldC1_W2_Lab06_Multiple_Variable_GradientDescent-checkpoint.ipynb\n"
     ]
    }
   ],
   "source": [
    "from files.files import remove_spaces\n",
    "remove_spaces()"
   ]
  },
  {
   "cell_type": "markdown",
   "metadata": {},
   "source": [
    "### Converting the notes to HTML"
   ]
  },
  {
   "cell_type": "code",
   "execution_count": 1,
   "metadata": {},
   "outputs": [],
   "source": [
    "from html_setup.notebook import Notebook\n",
    "import os\n",
    "f = Notebook('course-1')"
   ]
  },
  {
   "cell_type": "code",
   "execution_count": 2,
   "metadata": {},
   "outputs": [
    {
     "name": "stdout",
     "output_type": "stream",
     "text": [
      "Converting C1_W1_Lab05_Gradient_Descent_Soln.ipynb\n",
      "Converting C1_W1_Lab04_Cost_function_Soln.ipynb\n",
      "Converting C1_W1_Lab03_Model_Representation_Soln.ipynb\n",
      "Converting C1_W2_Lab02_Multiple_Variable_Soln.ipynb\n",
      "Converting C1_W2_Lab04_FeatEng_PolyReg_Soln.ipynb\n",
      "Converting C1_W2_Lab03_Feature_Scaling_and_Learning_Rate_Soln.ipynb\n",
      "Converting C1_W2_Lab06_Sklearn_Normal_Soln.ipynb\n",
      "Converting C1_W2_Lab05_Sklearn_GD_Soln.ipynb\n",
      "Converting C1_W2_Lab07_FInal_Linear_Regression_Soln.ipynb\n",
      "Converting C1_W2_Lab01_Python_Numpy_Vectorization_Soln.ipynb\n",
      "Converting C1_W3_Lab03_Decision_Boundary_Soln.ipynb\n",
      "Converting C1_W3_Lab05_Cost_Function_Soln.ipynb\n",
      "Converting C1_W3_Lab04_LogisticLoss_Soln.ipynb\n",
      "Converting C1_W3_Lab08_Overfitting_Soln.ipynb\n",
      "Converting C1_W3_Lab06_Gradient_Descent_Soln.ipynb\n",
      "Converting C1_W3_Lab02_Sigmoid_function_Soln.ipynb\n",
      "Converting C1_W3_Lab09_Regularization_Soln.ipynb\n",
      "Converting C1_W3_Lab10_Final_Logistic_Regression_Soln.ipynb\n",
      "Converting C1_W3_Lab01_Classification_Soln.ipynb\n",
      "Converting C1_W3_Lab07_Scikit_Learn_Soln.ipynb\n"
     ]
    }
   ],
   "source": [
    "outputs = []\n",
    "for folder, _, files in os.walk(\"course-1\"):\n",
    "    for file in files:\n",
    "        if file.endswith('.ipynb'):\n",
    "            file_path = os.path.join(folder, file)\n",
    "            if \".ipynb_checkpoints\" in file_path:\n",
    "                continue\n",
    "            \n",
    "            print(f\"Converting {file}\")\n",
    "            try:\n",
    "                output = f.export_notebook(file_path)\n",
    "                outputs.append(output)\n",
    "            except Exception as e:\n",
    "                print(f\"Error converting {file}\")\n",
    "                print(e)"
   ]
  },
  {
   "cell_type": "markdown",
   "metadata": {},
   "source": [
    "### Adding them to index.html"
   ]
  },
  {
   "cell_type": "code",
   "execution_count": 3,
   "metadata": {},
   "outputs": [
    {
     "data": {
      "text/plain": [
       "['course-1/C1_week1/C1_W1_Lab03_Model_Representation_Soln.html',\n",
       " 'course-1/C1_week1/C1_W1_Lab04_Cost_function_Soln.html',\n",
       " 'course-1/C1_week1/C1_W1_Lab05_Gradient_Descent_Soln.html',\n",
       " 'course-1/C1_week2/C1_W2_Lab01_Python_Numpy_Vectorization_Soln.html',\n",
       " 'course-1/C1_week2/C1_W2_Lab02_Multiple_Variable_Soln.html',\n",
       " 'course-1/C1_week2/C1_W2_Lab03_Feature_Scaling_and_Learning_Rate_Soln.html',\n",
       " 'course-1/C1_week2/C1_W2_Lab04_FeatEng_PolyReg_Soln.html',\n",
       " 'course-1/C1_week2/C1_W2_Lab05_Sklearn_GD_Soln.html',\n",
       " 'course-1/C1_week2/C1_W2_Lab06_Sklearn_Normal_Soln.html',\n",
       " 'course-1/C1_week2/C1_W2_Lab07_FInal_Linear_Regression_Soln.html',\n",
       " 'course-1/C1_week3/C1_W3_Lab01_Classification_Soln.html',\n",
       " 'course-1/C1_week3/C1_W3_Lab02_Sigmoid_function_Soln.html',\n",
       " 'course-1/C1_week3/C1_W3_Lab03_Decision_Boundary_Soln.html',\n",
       " 'course-1/C1_week3/C1_W3_Lab04_LogisticLoss_Soln.html',\n",
       " 'course-1/C1_week3/C1_W3_Lab05_Cost_Function_Soln.html',\n",
       " 'course-1/C1_week3/C1_W3_Lab06_Gradient_Descent_Soln.html',\n",
       " 'course-1/C1_week3/C1_W3_Lab07_Scikit_Learn_Soln.html',\n",
       " 'course-1/C1_week3/C1_W3_Lab08_Overfitting_Soln.html',\n",
       " 'course-1/C1_week3/C1_W3_Lab09_Regularization_Soln.html',\n",
       " 'course-1/C1_week3/C1_W3_Lab10_Final_Logistic_Regression_Soln.html']"
      ]
     },
     "execution_count": 3,
     "metadata": {},
     "output_type": "execute_result"
    }
   ],
   "source": [
    "outputs = sorted(outputs)\n",
    "outputs"
   ]
  },
  {
   "cell_type": "code",
   "execution_count": 4,
   "metadata": {},
   "outputs": [
    {
     "data": {
      "text/plain": [
       "'Regularization_Soln.html'"
      ]
     },
     "execution_count": 4,
     "metadata": {},
     "output_type": "execute_result"
    }
   ],
   "source": [
    "title = \"C1_W3_Lab09_Regularization_Soln.html\"\n",
    "\"_\".join(title.split(\"_\")[3:])"
   ]
  },
  {
   "cell_type": "code",
   "execution_count": 5,
   "metadata": {},
   "outputs": [
    {
     "name": "stdout",
     "output_type": "stream",
     "text": [
      "<li>\n",
      "        <a href=\"Andrew_NG/course-1/C1_week1/C1_W1_Lab03_Model_Representation_Soln.html\" target = 'blank' class = 'links'>Model Representation</a>\n",
      "        </li>\n",
      "        <li>\n",
      "        <a href=\"Andrew_NG/course-1/C1_week1/C1_W1_Lab04_Cost_function_Soln.html\" target = 'blank' class = 'links'>Cost Function</a>\n",
      "        </li>\n",
      "        <li>\n",
      "        <a href=\"Andrew_NG/course-1/C1_week1/C1_W1_Lab05_Gradient_Descent_Soln.html\" target = 'blank' class = 'links'>Gradient Descent</a>\n",
      "        </li>\n",
      "        <li>\n",
      "        <a href=\"Andrew_NG/course-1/C1_week2/C1_W2_Lab01_Python_Numpy_Vectorization_Soln.html\" target = 'blank' class = 'links'>Python Numpy Vectorization</a>\n",
      "        </li>\n",
      "        <li>\n",
      "        <a href=\"Andrew_NG/course-1/C1_week2/C1_W2_Lab02_Multiple_Variable_Soln.html\" target = 'blank' class = 'links'>Multiple Variable</a>\n",
      "        </li>\n",
      "        <li>\n",
      "        <a href=\"Andrew_NG/course-1/C1_week2/C1_W2_Lab03_Feature_Scaling_and_Learning_Rate_Soln.html\" target = 'blank' class = 'links'>Feature Scaling And Learning Rate</a>\n",
      "        </li>\n",
      "        <li>\n",
      "        <a href=\"Andrew_NG/course-1/C1_week2/C1_W2_Lab04_FeatEng_PolyReg_Soln.html\" target = 'blank' class = 'links'>Feateng Polyreg</a>\n",
      "        </li>\n",
      "        <li>\n",
      "        <a href=\"Andrew_NG/course-1/C1_week2/C1_W2_Lab05_Sklearn_GD_Soln.html\" target = 'blank' class = 'links'>Sklearn Gd</a>\n",
      "        </li>\n",
      "        <li>\n",
      "        <a href=\"Andrew_NG/course-1/C1_week2/C1_W2_Lab06_Sklearn_Normal_Soln.html\" target = 'blank' class = 'links'>Sklearn Normal</a>\n",
      "        </li>\n",
      "        <li>\n",
      "        <a href=\"Andrew_NG/course-1/C1_week2/C1_W2_Lab07_FInal_Linear_Regression_Soln.html\" target = 'blank' class = 'links'>Final Linear Regression</a>\n",
      "        </li>\n",
      "        <li>\n",
      "        <a href=\"Andrew_NG/course-1/C1_week3/C1_W3_Lab01_Classification_Soln.html\" target = 'blank' class = 'links'>Classification</a>\n",
      "        </li>\n",
      "        <li>\n",
      "        <a href=\"Andrew_NG/course-1/C1_week3/C1_W3_Lab02_Sigmoid_function_Soln.html\" target = 'blank' class = 'links'>Sigmoid Function</a>\n",
      "        </li>\n",
      "        <li>\n",
      "        <a href=\"Andrew_NG/course-1/C1_week3/C1_W3_Lab03_Decision_Boundary_Soln.html\" target = 'blank' class = 'links'>Decision Boundary</a>\n",
      "        </li>\n",
      "        <li>\n",
      "        <a href=\"Andrew_NG/course-1/C1_week3/C1_W3_Lab04_LogisticLoss_Soln.html\" target = 'blank' class = 'links'>Logisticloss</a>\n",
      "        </li>\n",
      "        <li>\n",
      "        <a href=\"Andrew_NG/course-1/C1_week3/C1_W3_Lab05_Cost_Function_Soln.html\" target = 'blank' class = 'links'>Cost Function</a>\n",
      "        </li>\n",
      "        <li>\n",
      "        <a href=\"Andrew_NG/course-1/C1_week3/C1_W3_Lab06_Gradient_Descent_Soln.html\" target = 'blank' class = 'links'>Gradient Descent</a>\n",
      "        </li>\n",
      "        <li>\n",
      "        <a href=\"Andrew_NG/course-1/C1_week3/C1_W3_Lab07_Scikit_Learn_Soln.html\" target = 'blank' class = 'links'>Scikit Learn</a>\n",
      "        </li>\n",
      "        <li>\n",
      "        <a href=\"Andrew_NG/course-1/C1_week3/C1_W3_Lab08_Overfitting_Soln.html\" target = 'blank' class = 'links'>Overfitting</a>\n",
      "        </li>\n",
      "        <li>\n",
      "        <a href=\"Andrew_NG/course-1/C1_week3/C1_W3_Lab09_Regularization_Soln.html\" target = 'blank' class = 'links'>Regularization</a>\n",
      "        </li>\n",
      "        <li>\n",
      "        <a href=\"Andrew_NG/course-1/C1_week3/C1_W3_Lab10_Final_Logistic_Regression_Soln.html\" target = 'blank' class = 'links'>Final Logistic Regression</a>\n",
      "        </li>\n",
      "        \n"
     ]
    }
   ],
   "source": [
    "string = ''\n",
    "for file_path in outputs:\n",
    "    final_path = file_path  #'/'.join(file_path.split(\"\\\\\")[1:])\n",
    "    if \".ipynb_checkpoints\" in final_path:\n",
    "        pass\n",
    "    else:\n",
    "        title = final_path.split(\"/\")[-1]\n",
    "        title = \"_\".join(title.split(\"_\")[3:-1])\n",
    "        title = title.split(\".\")[0]\n",
    "        title = title.replace(\"_\", \" \").title()\n",
    "        txt = f\"\"\"<li>\n",
    "        <a href=\"Andrew_NG/{final_path}\" target = 'blank' class = 'links'>{title}</a>\n",
    "        </li>\n",
    "        \"\"\"\n",
    "        string += txt\n",
    "\n",
    "print(string)"
   ]
  },
  {
   "cell_type": "code",
   "execution_count": null,
   "metadata": {},
   "outputs": [],
   "source": []
  }
 ],
 "metadata": {
  "kernelspec": {
   "display_name": "Python 3.10.4 ('mlearning')",
   "language": "python",
   "name": "python3"
  },
  "language_info": {
   "codemirror_mode": {
    "name": "ipython",
    "version": 3
   },
   "file_extension": ".py",
   "mimetype": "text/x-python",
   "name": "python",
   "nbconvert_exporter": "python",
   "pygments_lexer": "ipython3",
   "version": "3.10.4"
  },
  "orig_nbformat": 4,
  "vscode": {
   "interpreter": {
    "hash": "1eb649f6f8cececb32e27a7c74ff0c8a2304f0589778cec0736ca47bbe35202a"
   }
  }
 },
 "nbformat": 4,
 "nbformat_minor": 2
}
