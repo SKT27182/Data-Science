{
 "cells": [
  {
   "cell_type": "markdown",
   "metadata": {},
   "source": [
    "### Removing whitespace"
   ]
  },
  {
   "cell_type": "code",
   "execution_count": 1,
   "metadata": {},
   "outputs": [
    {
     "name": "stdout",
     "output_type": "stream",
     "text": [
      "XtuAbxu3QWybgG8bt1Fsjw_c9f74854fefa4d3692c62a39e8b16ae1_snapshotmeteoorite(2).png\n"
     ]
    }
   ],
   "source": [
    "from files.files import remove_spaces\n",
    "remove_spaces()"
   ]
  },
  {
   "cell_type": "markdown",
   "metadata": {},
   "source": [
    "### Converting the notes to HTML"
   ]
  },
  {
   "cell_type": "code",
   "execution_count": 7,
   "metadata": {},
   "outputs": [],
   "source": [
    "from html_setup.notebook import Notebook\n",
    "import os\n",
    "course = \"2_Calculus\"\n",
    "f = Notebook(course)"
   ]
  },
  {
   "cell_type": "code",
   "execution_count": 8,
   "metadata": {},
   "outputs": [
    {
     "name": "stdout",
     "output_type": "stream",
     "text": [
      "Converting C2_W3_Lab_2_Classification_with_Perceptron.ipynb\n",
      "Converting C2_W3_Lab_1_Regression_with_Perceptron.ipynb\n",
      "Converting C2_W3_Lab_3_Optimization_Using_Newtons_Method.ipynb\n",
      "Converting C2_W3_Lab_4_Neural_Network_with_Two_Layers.ipynb\n",
      "Converting C2_W1_Lab_2_Cost_Minimization.ipynb\n",
      "Converting C2_W1_Lab_1_differentiation_in_python.ipynb\n",
      "Converting C2_W2_Lab_2_Optimization_Using_Gradient_Descent_in_Two_Variables.ipynb\n",
      "Converting C2_W2_Lab_3_Optimization_Linear_Regression.ipynb\n",
      "Converting C2_W2_Lab_1_Optimization_Using_Gradient_Descent_in_One_Variable.ipynb\n"
     ]
    }
   ],
   "source": [
    "outputs = []\n",
    "for folder, _, files in os.walk(course):\n",
    "    for file in files:\n",
    "        if file.endswith('.ipynb'):\n",
    "            file_path = os.path.join(folder, file)\n",
    "            if \".ipynb_checkpoints\" in file_path:\n",
    "                continue\n",
    "            \n",
    "            print(f\"Converting {file}\")\n",
    "            try:\n",
    "                output = f.export_notebook(file_path)\n",
    "                outputs.append(output)\n",
    "            except Exception as e:\n",
    "                print(f\"Error converting {file}\")\n",
    "                print(e)"
   ]
  },
  {
   "cell_type": "markdown",
   "metadata": {},
   "source": [
    "### Adding them to index.html"
   ]
  },
  {
   "cell_type": "code",
   "execution_count": 9,
   "metadata": {},
   "outputs": [
    {
     "data": {
      "text/plain": [
       "(['2_Calculus/Week_1/C2_W1_Lab_1_differentiation_in_python.html',\n",
       "  '2_Calculus/Week_1/C2_W1_Lab_2_Cost_Minimization.html',\n",
       "  '2_Calculus/Week_2/C2_W2_Lab_1_Optimization_Using_Gradient_Descent_in_One_Variable.html',\n",
       "  '2_Calculus/Week_2/C2_W2_Lab_2_Optimization_Using_Gradient_Descent_in_Two_Variables.html',\n",
       "  '2_Calculus/Week_2/C2_W2_Lab_3_Optimization_Linear_Regression.html',\n",
       "  '2_Calculus/Week_3/C2_W3_Lab_1_Regression_with_Perceptron.html',\n",
       "  '2_Calculus/Week_3/C2_W3_Lab_2_Classification_with_Perceptron.html',\n",
       "  '2_Calculus/Week_3/C2_W3_Lab_3_Optimization_Using_Newtons_Method.html',\n",
       "  '2_Calculus/Week_3/C2_W3_Lab_4_Neural_Network_with_Two_Layers.html'],\n",
       " 9)"
      ]
     },
     "execution_count": 9,
     "metadata": {},
     "output_type": "execute_result"
    }
   ],
   "source": [
    "outputs = sorted(outputs)\n",
    "outputs, len(outputs)"
   ]
  },
  {
   "cell_type": "code",
   "execution_count": 10,
   "metadata": {},
   "outputs": [
    {
     "data": {
      "text/plain": [
       "'1_Initialization.html'"
      ]
     },
     "execution_count": 10,
     "metadata": {},
     "output_type": "execute_result"
    }
   ],
   "source": [
    "title = \"2_Improving_Neural_network/Week_1/C2_W1_Lab_1_Initialization.html\"\n",
    "\"_\".join(title.split(\"_\")[7:])"
   ]
  },
  {
   "cell_type": "code",
   "execution_count": 11,
   "metadata": {},
   "outputs": [
    {
     "name": "stdout",
     "output_type": "stream",
     "text": [
      "<li>\n",
      "        <a href=\"Mathematics_for_Machine_Learning_and_Data_Science_Specialization/2_Calculus/Week_1/C2_W1_Lab_1_differentiation_in_python.html\" target = 'blank' class = 'links'>Differentiation In Python</a>\n",
      "        </li>\n",
      "        <li>\n",
      "        <a href=\"Mathematics_for_Machine_Learning_and_Data_Science_Specialization/2_Calculus/Week_1/C2_W1_Lab_2_Cost_Minimization.html\" target = 'blank' class = 'links'>Cost Minimization</a>\n",
      "        </li>\n",
      "        <li>\n",
      "        <a href=\"Mathematics_for_Machine_Learning_and_Data_Science_Specialization/2_Calculus/Week_2/C2_W2_Lab_1_Optimization_Using_Gradient_Descent_in_One_Variable.html\" target = 'blank' class = 'links'>Optimization Using Gradient Descent In One Variable</a>\n",
      "        </li>\n",
      "        <li>\n",
      "        <a href=\"Mathematics_for_Machine_Learning_and_Data_Science_Specialization/2_Calculus/Week_2/C2_W2_Lab_2_Optimization_Using_Gradient_Descent_in_Two_Variables.html\" target = 'blank' class = 'links'>Optimization Using Gradient Descent In Two Variables</a>\n",
      "        </li>\n",
      "        <li>\n",
      "        <a href=\"Mathematics_for_Machine_Learning_and_Data_Science_Specialization/2_Calculus/Week_2/C2_W2_Lab_3_Optimization_Linear_Regression.html\" target = 'blank' class = 'links'>Optimization Linear Regression</a>\n",
      "        </li>\n",
      "        <li>\n",
      "        <a href=\"Mathematics_for_Machine_Learning_and_Data_Science_Specialization/2_Calculus/Week_3/C2_W3_Lab_1_Regression_with_Perceptron.html\" target = 'blank' class = 'links'>Regression With Perceptron</a>\n",
      "        </li>\n",
      "        <li>\n",
      "        <a href=\"Mathematics_for_Machine_Learning_and_Data_Science_Specialization/2_Calculus/Week_3/C2_W3_Lab_2_Classification_with_Perceptron.html\" target = 'blank' class = 'links'>Classification With Perceptron</a>\n",
      "        </li>\n",
      "        <li>\n",
      "        <a href=\"Mathematics_for_Machine_Learning_and_Data_Science_Specialization/2_Calculus/Week_3/C2_W3_Lab_3_Optimization_Using_Newtons_Method.html\" target = 'blank' class = 'links'>Optimization Using Newtons Method</a>\n",
      "        </li>\n",
      "        <li>\n",
      "        <a href=\"Mathematics_for_Machine_Learning_and_Data_Science_Specialization/2_Calculus/Week_3/C2_W3_Lab_4_Neural_Network_with_Two_Layers.html\" target = 'blank' class = 'links'>Neural Network With Two Layers</a>\n",
      "        </li>\n",
      "        \n"
     ]
    }
   ],
   "source": [
    "string = ''\n",
    "for file_path in outputs:\n",
    "    final_path = file_path  #'/'.join(file_path.split(\"\\\\\")[1:])\n",
    "    if \".ipynb_checkpoints\" in final_path:\n",
    "        pass\n",
    "    else:\n",
    "        title = final_path.split(\"/\")[-1]\n",
    "        title = \"_\".join(title.split(\"_\")[4:])\n",
    "        title = title.split(\".\")[0]\n",
    "        title = title.replace(\"_\", \" \").title()\n",
    "        txt = f\"\"\"<li>\n",
    "        <a href=\"Mathematics_for_Machine_Learning_and_Data_Science_Specialization/{final_path}\" target = 'blank' class = 'links'>{title}</a>\n",
    "        </li>\n",
    "        \"\"\"\n",
    "        string += txt\n",
    "\n",
    "print(string)"
   ]
  },
  {
   "cell_type": "code",
   "execution_count": null,
   "metadata": {},
   "outputs": [],
   "source": []
  }
 ],
 "metadata": {
  "kernelspec": {
   "display_name": "my_env",
   "language": "python",
   "name": "python3"
  },
  "language_info": {
   "codemirror_mode": {
    "name": "ipython",
    "version": 3
   },
   "file_extension": ".py",
   "mimetype": "text/x-python",
   "name": "python",
   "nbconvert_exporter": "python",
   "pygments_lexer": "ipython3",
   "version": "3.10.6"
  },
  "orig_nbformat": 4,
  "vscode": {
   "interpreter": {
    "hash": "333ad066d239af8659780667608f3e14a8c59d1eb92890b0405dfaef9e357b30"
   }
  }
 },
 "nbformat": 4,
 "nbformat_minor": 2
}
