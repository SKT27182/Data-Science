{
 "cells": [
  {
   "cell_type": "markdown",
   "metadata": {},
   "source": [
    "### Removing whitespace"
   ]
  },
  {
   "cell_type": "code",
   "execution_count": 1,
   "metadata": {},
   "outputs": [
    {
     "name": "stdout",
     "output_type": "stream",
     "text": [
      "XtuAbxu3QWybgG8bt1Fsjw_c9f74854fefa4d3692c62a39e8b16ae1_snapshotmeteoorite(2).png\n"
     ]
    }
   ],
   "source": [
    "from files.files import remove_spaces\n",
    "remove_spaces()"
   ]
  },
  {
   "cell_type": "markdown",
   "metadata": {},
   "source": [
    "### Converting the notes to HTML"
   ]
  },
  {
   "cell_type": "code",
   "execution_count": 5,
   "metadata": {},
   "outputs": [],
   "source": [
    "from html_setup.notebook import Notebook\n",
    "import os\n",
    "\n",
    "course = \"3_Probability_and_Statistics\"\n",
    "f = Notebook(course)"
   ]
  },
  {
   "cell_type": "code",
   "execution_count": 6,
   "metadata": {},
   "outputs": [
    {
     "name": "stdout",
     "output_type": "stream",
     "text": [
      "Converting C3_W4_Lab_1_AB_Testing.ipynb\n",
      "Converting C3_W3_Lab_1_Central_Limit_Theorem.ipynb\n",
      "Converting C3_W1_Lab_2_Monty_Hall.ipynb\n",
      "Converting C3_W1_Lab_1_Birthday_Problems.ipynb\n",
      "Converting C3_W1_Lab_3_Probability_Distributions_and_Naive_Classifier_and_Spam_Detector.ipynb\n",
      "Converting C3_W2_Lab_3_Loaded_dice.ipynb\n",
      "Converting C3_W2_Lab_1_Summary_Statistics.ipynb\n",
      "Converting C3_W2_Lab_2_Dice_Simulations.ipynb\n"
     ]
    }
   ],
   "source": [
    "outputs = []\n",
    "for folder, _, files in os.walk(course):\n",
    "    for file in files:\n",
    "        if file.endswith(\".ipynb\"):\n",
    "            file_path = os.path.join(folder, file)\n",
    "            if \".ipynb_checkpoints\" in file_path:\n",
    "                continue\n",
    "\n",
    "            print(f\"Converting {file}\")\n",
    "            try:\n",
    "                output = f.export_notebook(file_path)\n",
    "                outputs.append(output)\n",
    "            except Exception as e:\n",
    "                print(f\"Error converting {file}\")\n",
    "                print(e)"
   ]
  },
  {
   "cell_type": "markdown",
   "metadata": {},
   "source": [
    "### Adding them to index.html"
   ]
  },
  {
   "cell_type": "code",
   "execution_count": 7,
   "metadata": {},
   "outputs": [
    {
     "data": {
      "text/plain": [
       "(['3_Probability_and_Statistics/Week_1/C3_W1_Lab_1_Birthday_Problems.html',\n",
       "  '3_Probability_and_Statistics/Week_1/C3_W1_Lab_2_Monty_Hall.html',\n",
       "  '3_Probability_and_Statistics/Week_1/C3_W1_Lab_3_Probability_Distributions_and_Naive_Classifier_and_Spam_Detector.html',\n",
       "  '3_Probability_and_Statistics/Week_2/C3_W2_Lab_1_Summary_Statistics.html',\n",
       "  '3_Probability_and_Statistics/Week_2/C3_W2_Lab_2_Dice_Simulations.html',\n",
       "  '3_Probability_and_Statistics/Week_2/C3_W2_Lab_3_Loaded_dice.html',\n",
       "  '3_Probability_and_Statistics/Week_3/C3_W3_Lab_1_Central_Limit_Theorem.html',\n",
       "  '3_Probability_and_Statistics/Week_4/C3_W4_Lab_1_AB_Testing.html'],\n",
       " 8)"
      ]
     },
     "execution_count": 7,
     "metadata": {},
     "output_type": "execute_result"
    }
   ],
   "source": [
    "outputs = sorted(outputs)\n",
    "outputs, len(outputs)"
   ]
  },
  {
   "cell_type": "code",
   "execution_count": 9,
   "metadata": {},
   "outputs": [
    {
     "data": {
      "text/plain": [
       "''"
      ]
     },
     "execution_count": 9,
     "metadata": {},
     "output_type": "execute_result"
    }
   ],
   "source": [
    "title = \"2_Improving_Neural_network/Week_1/C2_W1_Lab_1_Initialization.html\"\n",
    "\"_\".join(title.split(\"_\")[7:])"
   ]
  },
  {
   "cell_type": "code",
   "execution_count": 10,
   "metadata": {},
   "outputs": [
    {
     "name": "stdout",
     "output_type": "stream",
     "text": [
      "<li>\n",
      "        <a href=\"Mathematics_for_Machine_Learning_and_Data_Science_Specialization/3_Probability_and_Statistics/Week_1/C3_W1_Lab_1_Birthday_Problems.html\" target = 'blank' class = 'links'>Birthday Problems</a>\n",
      "        </li>\n",
      "        <li>\n",
      "        <a href=\"Mathematics_for_Machine_Learning_and_Data_Science_Specialization/3_Probability_and_Statistics/Week_1/C3_W1_Lab_2_Monty_Hall.html\" target = 'blank' class = 'links'>Monty Hall</a>\n",
      "        </li>\n",
      "        <li>\n",
      "        <a href=\"Mathematics_for_Machine_Learning_and_Data_Science_Specialization/3_Probability_and_Statistics/Week_1/C3_W1_Lab_3_Probability_Distributions_and_Naive_Classifier_and_Spam_Detector.html\" target = 'blank' class = 'links'>Probability Distributions And Naive Classifier And Spam Detector</a>\n",
      "        </li>\n",
      "        <li>\n",
      "        <a href=\"Mathematics_for_Machine_Learning_and_Data_Science_Specialization/3_Probability_and_Statistics/Week_2/C3_W2_Lab_1_Summary_Statistics.html\" target = 'blank' class = 'links'>Summary Statistics</a>\n",
      "        </li>\n",
      "        <li>\n",
      "        <a href=\"Mathematics_for_Machine_Learning_and_Data_Science_Specialization/3_Probability_and_Statistics/Week_2/C3_W2_Lab_2_Dice_Simulations.html\" target = 'blank' class = 'links'>Dice Simulations</a>\n",
      "        </li>\n",
      "        <li>\n",
      "        <a href=\"Mathematics_for_Machine_Learning_and_Data_Science_Specialization/3_Probability_and_Statistics/Week_2/C3_W2_Lab_3_Loaded_dice.html\" target = 'blank' class = 'links'>Loaded Dice</a>\n",
      "        </li>\n",
      "        <li>\n",
      "        <a href=\"Mathematics_for_Machine_Learning_and_Data_Science_Specialization/3_Probability_and_Statistics/Week_3/C3_W3_Lab_1_Central_Limit_Theorem.html\" target = 'blank' class = 'links'>Central Limit Theorem</a>\n",
      "        </li>\n",
      "        <li>\n",
      "        <a href=\"Mathematics_for_Machine_Learning_and_Data_Science_Specialization/3_Probability_and_Statistics/Week_4/C3_W4_Lab_1_AB_Testing.html\" target = 'blank' class = 'links'>Ab Testing</a>\n",
      "        </li>\n",
      "        \n"
     ]
    }
   ],
   "source": [
    "string = \"\"\n",
    "for file_path in outputs:\n",
    "    final_path = file_path  #'/'.join(file_path.split(\"\\\\\")[1:])\n",
    "    if \".ipynb_checkpoints\" in final_path:\n",
    "        pass\n",
    "    else:\n",
    "        title = final_path.split(\"/\")[-1]\n",
    "        title = \"_\".join(title.split(\"_\")[4:])\n",
    "        title = title.split(\".\")[0]\n",
    "        title = title.replace(\"_\", \" \").title()\n",
    "        txt = f\"\"\"<li>\n",
    "        <a href=\"Mathematics_for_Machine_Learning_and_Data_Science_Specialization/{final_path}\" target = 'blank' class = 'links'>{title}</a>\n",
    "        </li>\n",
    "        \"\"\"\n",
    "        string += txt\n",
    "\n",
    "print(string)"
   ]
  },
  {
   "cell_type": "code",
   "execution_count": null,
   "metadata": {},
   "outputs": [],
   "source": []
  }
 ],
 "metadata": {
  "kernelspec": {
   "display_name": "my_env",
   "language": "python",
   "name": "python3"
  },
  "language_info": {
   "codemirror_mode": {
    "name": "ipython",
    "version": 3
   },
   "file_extension": ".py",
   "mimetype": "text/x-python",
   "name": "python",
   "nbconvert_exporter": "python",
   "pygments_lexer": "ipython3",
   "version": "3.10.6"
  },
  "orig_nbformat": 4,
  "vscode": {
   "interpreter": {
    "hash": "333ad066d239af8659780667608f3e14a8c59d1eb92890b0405dfaef9e357b30"
   }
  }
 },
 "nbformat": 4,
 "nbformat_minor": 2
}
