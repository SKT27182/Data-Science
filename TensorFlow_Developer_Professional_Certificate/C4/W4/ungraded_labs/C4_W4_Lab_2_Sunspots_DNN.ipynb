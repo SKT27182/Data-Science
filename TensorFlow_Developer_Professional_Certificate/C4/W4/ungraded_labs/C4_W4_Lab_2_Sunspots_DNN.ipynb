{
 "cells": [
  {
   "cell_type": "markdown",
   "metadata": {},
   "source": [
    "<a href=\"https://colab.research.google.com/github/https-deeplearning-ai/tensorflow-1-public/blob/main/C4/W4/ungraded_labs/C4_W4_Lab_2_Sunspots_DNN.ipynb\" target=\"_parent\"><img src=\"https://colab.research.google.com/assets/colab-badge.svg\" alt=\"Open In Colab\"/></a>"
   ]
  },
  {
   "cell_type": "markdown",
   "metadata": {
    "id": "JQsk1BKwZrBh"
   },
   "source": [
    "# Ungraded Lab: Predicting Sunspots with Neural Networks (DNN only)\n",
    "\n",
    "In the remaining labs for this week, you will move away from synthetic time series and start building models for real world data. In particular, you will train on the [Sunspots](https://www.kaggle.com/datasets/robervalt/sunspots) dataset: a monthly record of sunspot numbers from January 1749 to July 2018. You will first build a deep neural network here composed of dense layers. This will act as your baseline so you can compare it to the next lab where you will use a more complex architecture.\n",
    "\n",
    "Let's begin!"
   ]
  },
  {
   "cell_type": "markdown",
   "metadata": {
    "id": "2JHlrB12aeFD"
   },
   "source": [
    "## Imports\n",
    "\n",
    "You will use the same imports as before with the addition of the [csv](https://docs.python.org/3/library/csv.html) module. You will need this to parse the CSV file containing the dataset."
   ]
  },
  {
   "cell_type": "code",
   "execution_count": 2,
   "metadata": {
    "id": "56XEQOGknrAk"
   },
   "outputs": [],
   "source": [
    "import tensorflow as tf\n",
    "import numpy as np\n",
    "import matplotlib.pyplot as plt\n",
    "import csv"
   ]
  },
  {
   "cell_type": "markdown",
   "metadata": {
    "id": "D-mNttnaagBH"
   },
   "source": [
    "## Utilities\n",
    "\n",
    "You will only have the `plot_series()` dataset here because you no longer need the synthetic data generation functions."
   ]
  },
  {
   "cell_type": "code",
   "execution_count": 3,
   "metadata": {
    "id": "sLl52leVp5wU"
   },
   "outputs": [],
   "source": [
    "def plot_series(x, y, format=\"-\", start=0, end=None, \n",
    "                title=None, xlabel=None, ylabel=None, legend=None ):\n",
    "    \"\"\"\n",
    "    Visualizes time series data\n",
    "\n",
    "    Args:\n",
    "      x (array of int) - contains values for the x-axis\n",
    "      y (array of int or tuple of arrays) - contains the values for the y-axis\n",
    "      format (string) - line style when plotting the graph\n",
    "      label (string) - tag for the line\n",
    "      start (int) - first time step to plot\n",
    "      end (int) - last time step to plot\n",
    "      title (string) - title of the plot\n",
    "      xlabel (string) - label for the x-axis\n",
    "      ylabel (string) - label for the y-axis\n",
    "      legend (list of strings) - legend for the plot\n",
    "    \"\"\"\n",
    "\n",
    "    # Setup dimensions of the graph figure\n",
    "    plt.figure(figsize=(10, 6))\n",
    "    \n",
    "    # Check if there are more than two series to plot\n",
    "    if type(y) is tuple:\n",
    "\n",
    "      # Loop over the y elements\n",
    "      for y_curr in y:\n",
    "\n",
    "        # Plot the x and current y values\n",
    "        plt.plot(x[start:end], y_curr[start:end], format)\n",
    "\n",
    "    else:\n",
    "      # Plot the x and y values\n",
    "      plt.plot(x[start:end], y[start:end], format)\n",
    "\n",
    "    # Label the x-axis\n",
    "    plt.xlabel(xlabel)\n",
    "\n",
    "    # Label the y-axis\n",
    "    plt.ylabel(ylabel)\n",
    "\n",
    "    # Set the legend\n",
    "    if legend:\n",
    "      plt.legend(legend)\n",
    "\n",
    "    # Set the title\n",
    "    plt.title(title)\n",
    "\n",
    "    # Overlay a grid on the graph\n",
    "    plt.grid(True)\n",
    "\n",
    "    # Draw the graph on screen\n",
    "    plt.show()"
   ]
  },
  {
   "cell_type": "markdown",
   "metadata": {
    "id": "dFJv45pDauS8"
   },
   "source": [
    "## Download and Preview the Dataset\n",
    "\n",
    "You can now download the dataset and inspect the contents. The link in class is from Laurence's repo but we also hosted it in the link below."
   ]
  },
  {
   "cell_type": "code",
   "execution_count": 4,
   "metadata": {
    "id": "YwI-si5xyUkQ"
   },
   "outputs": [
    {
     "name": "stdout",
     "output_type": "stream",
     "text": [
      "--2023-07-04 12:27:27--  https://storage.googleapis.com/tensorflow-1-public/course4/Sunspots.csv\n",
      "Resolving storage.googleapis.com (storage.googleapis.com)... 2404:6800:4002:818::2010, 2404:6800:4002:819::2010, 2404:6800:4002:81a::2010, ...\n",
      "Connecting to storage.googleapis.com (storage.googleapis.com)|2404:6800:4002:818::2010|:443... connected.\n",
      "HTTP request sent, awaiting response... 200 OK\n",
      "Length: 70827 (69K) [text/csv]\n",
      "Saving to: ‘Sunspots.csv’\n",
      "\n",
      "Sunspots.csv        100%[===================>]  69.17K   337KB/s    in 0.2s    \n",
      "\n",
      "2023-07-04 12:27:28 (337 KB/s) - ‘Sunspots.csv’ saved [70827/70827]\n",
      "\n"
     ]
    }
   ],
   "source": [
    "# Download the dataset\n",
    "!wget https://storage.googleapis.com/tensorflow-1-public/course4/Sunspots.csv"
   ]
  },
  {
   "cell_type": "markdown",
   "metadata": {
    "id": "c0fAiMytrwPJ"
   },
   "source": [
    "Running the cell below, you'll see that there are only three columns in the dataset:\n",
    "1. untitled column containing the month number\n",
    "2. Date which has the format `YYYY-MM-DD`\n",
    "3. Mean Total Sunspot Number"
   ]
  },
  {
   "cell_type": "code",
   "execution_count": 5,
   "metadata": {
    "id": "d5W2auXKrhVh"
   },
   "outputs": [
    {
     "name": "stdout",
     "output_type": "stream",
     "text": [
      ",Date,Monthly Mean Total Sunspot Number\n",
      "0,1749-01-31,96.7\n",
      "1,1749-02-28,104.3\n",
      "2,1749-03-31,116.7\n",
      "3,1749-04-30,92.8\n",
      "4,1749-05-31,141.7\n",
      "5,1749-06-30,139.2\n",
      "6,1749-07-31,158.0\n",
      "7,1749-08-31,110.5\n",
      "8,1749-09-30,126.5\n"
     ]
    }
   ],
   "source": [
    "# Preview the dataset\n",
    "!head Sunspots.csv"
   ]
  },
  {
   "cell_type": "markdown",
   "metadata": {
    "id": "lbs-Y2SDsVaw"
   },
   "source": [
    "For this lab and the next, you will only need the month number and the mean total sunspot number. You will load those into memory and convert it to arrays that represents a time series."
   ]
  },
  {
   "cell_type": "code",
   "execution_count": 6,
   "metadata": {
    "id": "NcG9r1eClbTh"
   },
   "outputs": [
    {
     "data": {
      "image/png": "[encoded data removed]",
      "text/plain": [
       "<Figure size 720x432 with 1 Axes>"
      ]
     },
     "metadata": {
      "needs_background": "light"
     },
     "output_type": "display_data"
    }
   ],
   "source": [
    "# Initialize lists\n",
    "time_step = []\n",
    "sunspots = []\n",
    "\n",
    "# Open CSV file\n",
    "with open('./Sunspots.csv') as csvfile:\n",
    "  \n",
    "  # Initialize reader\n",
    "  reader = csv.reader(csvfile, delimiter=',')\n",
    "  \n",
    "  # Skip the first line\n",
    "  next(reader)\n",
    "  \n",
    "  # Append row and sunspot number to lists\n",
    "  for row in reader:\n",
    "    time_step.append(int(row[0]))\n",
    "    sunspots.append(float(row[2]))\n",
    "\n",
    "# Convert lists to numpy arrays\n",
    "time = np.array(time_step)\n",
    "series = np.array(sunspots)\n",
    "\n",
    "# Preview the data\n",
    "plot_series(time, series, xlabel='Month', ylabel='Monthly Mean Total Sunspot Number')"
   ]
  },
  {
   "cell_type": "markdown",
   "metadata": {
    "id": "EUQE9RRoazC5"
   },
   "source": [
    "## Split the Dataset\n",
    "\n",
    "Next, you will split the dataset into training and validation sets. There are 3235 points in the dataset and you will use the first 3000 for training."
   ]
  },
  {
   "cell_type": "code",
   "execution_count": 7,
   "metadata": {
    "id": "L92YRw_IpCFG"
   },
   "outputs": [],
   "source": [
    "# Define the split time\n",
    "split_time = 3000\n",
    "\n",
    "# Get the train set \n",
    "time_train = time[:split_time]\n",
    "x_train = series[:split_time]\n",
    "\n",
    "# Get the validation set\n",
    "time_valid = time[split_time:]\n",
    "x_valid = series[split_time:]"
   ]
  },
  {
   "cell_type": "markdown",
   "metadata": {
    "id": "RbuIOrb3a093"
   },
   "source": [
    "## Prepare Features and Labels\n",
    "\n",
    "You can then prepare the dataset windows as before. The window size is set to 30 points (equal to 2.5 years) but feel free to change later on if you want to experiment."
   ]
  },
  {
   "cell_type": "code",
   "execution_count": 8,
   "metadata": {
    "id": "lJwUUZscnG38"
   },
   "outputs": [],
   "source": [
    "def windowed_dataset(series, window_size, batch_size, shuffle_buffer):\n",
    "    \"\"\"Generates dataset windows\n",
    "\n",
    "    Args:\n",
    "      series (array of float) - contains the values of the time series\n",
    "      window_size (int) - the number of time steps to include in the feature\n",
    "      batch_size (int) - the batch size\n",
    "      shuffle_buffer(int) - buffer size to use for the shuffle method\n",
    "\n",
    "    Returns:\n",
    "      dataset (TF Dataset) - TF Dataset containing time windows\n",
    "    \"\"\"\n",
    "  \n",
    "    # Generate a TF Dataset from the series values\n",
    "    dataset = tf.data.Dataset.from_tensor_slices(series)\n",
    "    \n",
    "    # Window the data but only take those with the specified size\n",
    "    dataset = dataset.window(window_size + 1, shift=1, drop_remainder=True)\n",
    "    \n",
    "    # Flatten the windows by putting its elements in a single batch\n",
    "    dataset = dataset.flat_map(lambda window: window.batch(window_size + 1))\n",
    "\n",
    "    # Create tuples with features and labels \n",
    "    dataset = dataset.map(lambda window: (window[:-1], window[-1]))\n",
    "\n",
    "    # Shuffle the windows\n",
    "    dataset = dataset.shuffle(shuffle_buffer)\n",
    "    \n",
    "    # Create batches of windows\n",
    "    dataset = dataset.batch(batch_size).prefetch(1)\n",
    "    \n",
    "    return dataset"
   ]
  },
  {
   "cell_type": "code",
   "execution_count": 9,
   "metadata": {
    "id": "9g5zSxZwZQt_"
   },
   "outputs": [],
   "source": [
    "# Parameters\n",
    "window_size = 30\n",
    "batch_size = 32\n",
    "shuffle_buffer_size = 1000\n",
    "\n",
    "# Generate the dataset windows\n",
    "train_set = windowed_dataset(x_train, window_size, batch_size, shuffle_buffer_size)"
   ]
  },
  {
   "cell_type": "markdown",
   "metadata": {
    "id": "_Lhpi42ta5yP"
   },
   "source": [
    "## Build the Model\n",
    "\n",
    "The model will be 3-layer dense network as shown below."
   ]
  },
  {
   "cell_type": "code",
   "execution_count": 12,
   "metadata": {
    "id": "AclfYY3Mn6Ph"
   },
   "outputs": [
    {
     "name": "stdout",
     "output_type": "stream",
     "text": [
      "Model: \"sequential_2\"\n",
      "_________________________________________________________________\n",
      " Layer (type)                Output Shape              Param #   \n",
      "=================================================================\n",
      " dense_6 (Dense)             (None, 30)                930       \n",
      "                                                                 \n",
      " dense_7 (Dense)             (None, 10)                310       \n",
      "                                                                 \n",
      " dense_8 (Dense)             (None, 1)                 11        \n",
      "                                                                 \n",
      "=================================================================\n",
      "Total params: 1,251\n",
      "Trainable params: 1,251\n",
      "Non-trainable params: 0\n",
      "_________________________________________________________________\n"
     ]
    }
   ],
   "source": [
    "# Build the model\n",
    "model = tf.keras.models.Sequential([\n",
    "    tf.keras.layers.Dense(30, input_shape=[window_size], activation=\"relu\"), \n",
    "    tf.keras.layers.Dense(10, activation=\"relu\"),\n",
    "    tf.keras.layers.Dense(1)\n",
    "])\n",
    "\n",
    "# Print the model summary\n",
    "model.summary()"
   ]
  },
  {
   "cell_type": "markdown",
   "metadata": {
    "id": "uyT14hQOa97V"
   },
   "source": [
    "## Tune the Learning Rate\n",
    "\n",
    "You can pick a learning rate by running the same learning rate scheduler code from previous labs."
   ]
  },
  {
   "cell_type": "code",
   "execution_count": 13,
   "metadata": {
    "id": "GXiqsZQ1y4nD"
   },
   "outputs": [
    {
     "name": "stdout",
     "output_type": "stream",
     "text": [
      "Epoch 1/100\n"
     ]
    },
    {
     "name": "stderr",
     "output_type": "stream",
     "text": [
      "2023-07-04 12:28:02.036743: I tensorflow/core/common_runtime/executor.cc:1197] [/device:CPU:0] (DEBUG INFO) Executor start aborting (this does not indicate an error and you can ignore this message): INVALID_ARGUMENT: You must feed a value for placeholder tensor 'Placeholder/_0' with dtype double and shape [3000]\n",
      "\t [[{{node Placeholder/_0}}]]\n",
      "2023-07-04 12:28:02.037432: I tensorflow/core/common_runtime/executor.cc:1197] [/device:CPU:0] (DEBUG INFO) Executor start aborting (this does not indicate an error and you can ignore this message): INVALID_ARGUMENT: You must feed a value for placeholder tensor 'Placeholder/_0' with dtype double and shape [3000]\n",
      "\t [[{{node Placeholder/_0}}]]\n"
     ]
    },
    {
     "name": "stdout",
     "output_type": "stream",
     "text": [
      "93/93 [==============================] - 1s 6ms/step - loss: 74.6477 - lr: 1.0000e-08\n",
      "Epoch 2/100\n",
      "93/93 [==============================] - 1s 4ms/step - loss: 72.4578 - lr: 1.1220e-08\n",
      "Epoch 3/100\n",
      "93/93 [==============================] - 1s 4ms/step - loss: 70.0130 - lr: 1.2589e-08\n",
      "Epoch 4/100\n",
      "93/93 [==============================] - 1s 4ms/step - loss: 67.3212 - lr: 1.4125e-08\n",
      "Epoch 5/100\n",
      "93/93 [==============================] - 1s 4ms/step - loss: 64.3705 - lr: 1.5849e-08\n",
      "Epoch 6/100\n",
      "93/93 [==============================] - 1s 4ms/step - loss: 61.1651 - lr: 1.7783e-08\n",
      "Epoch 7/100\n",
      "93/93 [==============================] - 1s 4ms/step - loss: 57.7284 - lr: 1.9953e-08\n",
      "Epoch 8/100\n",
      "93/93 [==============================] - 1s 4ms/step - loss: 54.0660 - lr: 2.2387e-08\n",
      "Epoch 9/100\n",
      "93/93 [==============================] - 1s 4ms/step - loss: 50.2887 - lr: 2.5119e-08\n",
      "Epoch 10/100\n",
      "93/93 [==============================] - 1s 6ms/step - loss: 46.4314 - lr: 2.8184e-08\n",
      "Epoch 11/100\n",
      "93/93 [==============================] - 1s 4ms/step - loss: 42.6615 - lr: 3.1623e-08\n",
      "Epoch 12/100\n",
      "93/93 [==============================] - 1s 4ms/step - loss: 39.3995 - lr: 3.5481e-08\n",
      "Epoch 13/100\n",
      "93/93 [==============================] - 1s 5ms/step - loss: 36.7382 - lr: 3.9811e-08\n",
      "Epoch 14/100\n",
      "93/93 [==============================] - 1s 4ms/step - loss: 34.8058 - lr: 4.4668e-08\n",
      "Epoch 15/100\n",
      "93/93 [==============================] - 1s 4ms/step - loss: 33.5094 - lr: 5.0119e-08\n",
      "Epoch 16/100\n",
      "93/93 [==============================] - 1s 4ms/step - loss: 32.6808 - lr: 5.6234e-08\n",
      "Epoch 17/100\n",
      "93/93 [==============================] - 1s 5ms/step - loss: 32.1428 - lr: 6.3096e-08\n",
      "Epoch 18/100\n",
      "93/93 [==============================] - 1s 4ms/step - loss: 31.7727 - lr: 7.0795e-08\n",
      "Epoch 19/100\n",
      "93/93 [==============================] - 1s 4ms/step - loss: 31.5001 - lr: 7.9433e-08\n",
      "Epoch 20/100\n",
      "93/93 [==============================] - 1s 4ms/step - loss: 31.2641 - lr: 8.9125e-08\n",
      "Epoch 21/100\n",
      "93/93 [==============================] - 1s 5ms/step - loss: 31.0320 - lr: 1.0000e-07\n",
      "Epoch 22/100\n",
      "93/93 [==============================] - 1s 4ms/step - loss: 30.7929 - lr: 1.1220e-07\n",
      "Epoch 23/100\n",
      "93/93 [==============================] - 1s 4ms/step - loss: 30.5486 - lr: 1.2589e-07\n",
      "Epoch 24/100\n",
      "93/93 [==============================] - 1s 4ms/step - loss: 30.2959 - lr: 1.4125e-07\n",
      "Epoch 25/100\n",
      "93/93 [==============================] - 1s 4ms/step - loss: 30.0122 - lr: 1.5849e-07\n",
      "Epoch 26/100\n",
      "93/93 [==============================] - 1s 4ms/step - loss: 29.7182 - lr: 1.7783e-07\n",
      "Epoch 27/100\n",
      "93/93 [==============================] - 1s 4ms/step - loss: 29.4134 - lr: 1.9953e-07\n",
      "Epoch 28/100\n",
      "93/93 [==============================] - 1s 4ms/step - loss: 29.0901 - lr: 2.2387e-07\n",
      "Epoch 29/100\n",
      "93/93 [==============================] - 1s 4ms/step - loss: 28.7673 - lr: 2.5119e-07\n",
      "Epoch 30/100\n",
      "93/93 [==============================] - 1s 4ms/step - loss: 28.4130 - lr: 2.8184e-07\n",
      "Epoch 31/100\n",
      "93/93 [==============================] - 1s 4ms/step - loss: 28.0489 - lr: 3.1623e-07\n",
      "Epoch 32/100\n",
      "93/93 [==============================] - 1s 4ms/step - loss: 27.6836 - lr: 3.5481e-07\n",
      "Epoch 33/100\n",
      "93/93 [==============================] - 1s 4ms/step - loss: 27.2997 - lr: 3.9811e-07\n",
      "Epoch 34/100\n",
      "93/93 [==============================] - 1s 4ms/step - loss: 26.8985 - lr: 4.4668e-07\n",
      "Epoch 35/100\n",
      "93/93 [==============================] - 1s 4ms/step - loss: 26.4526 - lr: 5.0119e-07\n",
      "Epoch 36/100\n",
      "93/93 [==============================] - 1s 5ms/step - loss: 25.9802 - lr: 5.6234e-07\n",
      "Epoch 37/100\n",
      "93/93 [==============================] - 1s 5ms/step - loss: 25.5054 - lr: 6.3096e-07\n",
      "Epoch 38/100\n",
      "93/93 [==============================] - 1s 5ms/step - loss: 25.0685 - lr: 7.0795e-07\n",
      "Epoch 39/100\n",
      "93/93 [==============================] - 1s 4ms/step - loss: 24.6209 - lr: 7.9433e-07\n",
      "Epoch 40/100\n",
      "93/93 [==============================] - 1s 4ms/step - loss: 24.2352 - lr: 8.9125e-07\n",
      "Epoch 41/100\n",
      "93/93 [==============================] - 1s 5ms/step - loss: 23.8243 - lr: 1.0000e-06\n",
      "Epoch 42/100\n",
      "93/93 [==============================] - 1s 4ms/step - loss: 23.4725 - lr: 1.1220e-06\n",
      "Epoch 43/100\n",
      "93/93 [==============================] - 1s 4ms/step - loss: 23.0849 - lr: 1.2589e-06\n",
      "Epoch 44/100\n",
      "93/93 [==============================] - 1s 5ms/step - loss: 22.7191 - lr: 1.4125e-06\n",
      "Epoch 45/100\n",
      "93/93 [==============================] - 1s 4ms/step - loss: 22.4058 - lr: 1.5849e-06\n",
      "Epoch 46/100\n",
      "93/93 [==============================] - 1s 5ms/step - loss: 22.1485 - lr: 1.7783e-06\n",
      "Epoch 47/100\n",
      "93/93 [==============================] - 1s 5ms/step - loss: 21.7650 - lr: 1.9953e-06\n",
      "Epoch 48/100\n",
      "93/93 [==============================] - 1s 4ms/step - loss: 21.3881 - lr: 2.2387e-06\n",
      "Epoch 49/100\n",
      "93/93 [==============================] - 1s 4ms/step - loss: 21.1068 - lr: 2.5119e-06\n",
      "Epoch 50/100\n",
      "93/93 [==============================] - 1s 5ms/step - loss: 20.7994 - lr: 2.8184e-06\n",
      "Epoch 51/100\n",
      "93/93 [==============================] - 1s 5ms/step - loss: 20.4882 - lr: 3.1623e-06\n",
      "Epoch 52/100\n",
      "93/93 [==============================] - 1s 5ms/step - loss: 20.2830 - lr: 3.5481e-06\n",
      "Epoch 53/100\n",
      "93/93 [==============================] - 1s 4ms/step - loss: 19.9871 - lr: 3.9811e-06\n",
      "Epoch 54/100\n",
      "93/93 [==============================] - 1s 4ms/step - loss: 19.8283 - lr: 4.4668e-06\n",
      "Epoch 55/100\n",
      "93/93 [==============================] - 1s 4ms/step - loss: 19.5786 - lr: 5.0119e-06\n",
      "Epoch 56/100\n",
      "93/93 [==============================] - 1s 4ms/step - loss: 19.4709 - lr: 5.6234e-06\n",
      "Epoch 57/100\n",
      "93/93 [==============================] - 1s 4ms/step - loss: 19.3205 - lr: 6.3096e-06\n",
      "Epoch 58/100\n",
      "93/93 [==============================] - 1s 4ms/step - loss: 19.0583 - lr: 7.0795e-06\n",
      "Epoch 59/100\n",
      "93/93 [==============================] - 1s 5ms/step - loss: 18.8066 - lr: 7.9433e-06\n",
      "Epoch 60/100\n",
      "93/93 [==============================] - 1s 4ms/step - loss: 18.6132 - lr: 8.9125e-06\n",
      "Epoch 61/100\n",
      "93/93 [==============================] - 1s 4ms/step - loss: 18.7411 - lr: 1.0000e-05\n",
      "Epoch 62/100\n",
      "93/93 [==============================] - 1s 4ms/step - loss: 18.4532 - lr: 1.1220e-05\n",
      "Epoch 63/100\n",
      "93/93 [==============================] - 1s 4ms/step - loss: 18.1920 - lr: 1.2589e-05\n",
      "Epoch 64/100\n",
      "93/93 [==============================] - 1s 4ms/step - loss: 18.4128 - lr: 1.4125e-05\n",
      "Epoch 65/100\n",
      "93/93 [==============================] - 1s 5ms/step - loss: 18.1419 - lr: 1.5849e-05\n",
      "Epoch 66/100\n",
      "93/93 [==============================] - 1s 5ms/step - loss: 18.0493 - lr: 1.7783e-05\n",
      "Epoch 67/100\n",
      "93/93 [==============================] - 1s 4ms/step - loss: 18.2854 - lr: 1.9953e-05\n",
      "Epoch 68/100\n",
      "93/93 [==============================] - 1s 4ms/step - loss: 18.1235 - lr: 2.2387e-05\n",
      "Epoch 69/100\n",
      "93/93 [==============================] - 1s 4ms/step - loss: 18.0456 - lr: 2.5119e-05\n",
      "Epoch 70/100\n",
      "93/93 [==============================] - 1s 4ms/step - loss: 17.9819 - lr: 2.8184e-05\n",
      "Epoch 71/100\n",
      "93/93 [==============================] - 1s 4ms/step - loss: 18.0243 - lr: 3.1623e-05\n",
      "Epoch 72/100\n",
      "93/93 [==============================] - 1s 4ms/step - loss: 18.1918 - lr: 3.5481e-05\n",
      "Epoch 73/100\n",
      "93/93 [==============================] - 1s 4ms/step - loss: 17.9425 - lr: 3.9811e-05\n",
      "Epoch 74/100\n",
      "93/93 [==============================] - 1s 5ms/step - loss: 17.6689 - lr: 4.4668e-05\n",
      "Epoch 75/100\n",
      "93/93 [==============================] - 1s 4ms/step - loss: 18.0651 - lr: 5.0119e-05\n",
      "Epoch 76/100\n",
      "93/93 [==============================] - 1s 4ms/step - loss: 18.6288 - lr: 5.6234e-05\n",
      "Epoch 77/100\n",
      "93/93 [==============================] - 1s 4ms/step - loss: 18.0443 - lr: 6.3096e-05\n",
      "Epoch 78/100\n",
      "93/93 [==============================] - 1s 4ms/step - loss: 18.0797 - lr: 7.0795e-05\n",
      "Epoch 79/100\n",
      "93/93 [==============================] - 1s 4ms/step - loss: 17.8626 - lr: 7.9433e-05\n",
      "Epoch 80/100\n",
      "93/93 [==============================] - 1s 4ms/step - loss: 17.7308 - lr: 8.9125e-05\n",
      "Epoch 81/100\n",
      "93/93 [==============================] - 1s 4ms/step - loss: 17.7936 - lr: 1.0000e-04\n",
      "Epoch 82/100\n",
      "93/93 [==============================] - 1s 4ms/step - loss: 19.5519 - lr: 1.1220e-04\n",
      "Epoch 83/100\n",
      "93/93 [==============================] - 1s 4ms/step - loss: 17.8780 - lr: 1.2589e-04\n",
      "Epoch 84/100\n",
      "93/93 [==============================] - 1s 4ms/step - loss: 18.8089 - lr: 1.4125e-04\n",
      "Epoch 85/100\n",
      "93/93 [==============================] - 1s 4ms/step - loss: 18.1432 - lr: 1.5849e-04\n",
      "Epoch 86/100\n",
      "93/93 [==============================] - 1s 4ms/step - loss: 18.3506 - lr: 1.7783e-04\n",
      "Epoch 87/100\n",
      "93/93 [==============================] - 1s 4ms/step - loss: 18.1906 - lr: 1.9953e-04\n",
      "Epoch 88/100\n",
      "93/93 [==============================] - 1s 4ms/step - loss: 18.2100 - lr: 2.2387e-04\n",
      "Epoch 89/100\n",
      "93/93 [==============================] - 1s 5ms/step - loss: 20.1612 - lr: 2.5119e-04\n",
      "Epoch 90/100\n",
      "93/93 [==============================] - 1s 4ms/step - loss: 18.5662 - lr: 2.8184e-04\n",
      "Epoch 91/100\n",
      "93/93 [==============================] - 1s 5ms/step - loss: 19.6394 - lr: 3.1623e-04\n",
      "Epoch 92/100\n",
      "93/93 [==============================] - 1s 4ms/step - loss: 20.0415 - lr: 3.5481e-04\n",
      "Epoch 93/100\n",
      "93/93 [==============================] - 1s 4ms/step - loss: 22.0658 - lr: 3.9811e-04\n",
      "Epoch 94/100\n",
      "93/93 [==============================] - 1s 4ms/step - loss: 22.3451 - lr: 4.4668e-04\n",
      "Epoch 95/100\n",
      "93/93 [==============================] - 1s 4ms/step - loss: 20.0008 - lr: 5.0119e-04\n",
      "Epoch 96/100\n",
      "93/93 [==============================] - 1s 4ms/step - loss: 25.2973 - lr: 5.6234e-04\n",
      "Epoch 97/100\n",
      "93/93 [==============================] - 1s 4ms/step - loss: 19.9635 - lr: 6.3096e-04\n",
      "Epoch 98/100\n",
      "93/93 [==============================] - 1s 5ms/step - loss: 27.1354 - lr: 7.0795e-04\n",
      "Epoch 99/100\n",
      "93/93 [==============================] - 1s 4ms/step - loss: 26.6196 - lr: 7.9433e-04\n",
      "Epoch 100/100\n",
      "93/93 [==============================] - 1s 4ms/step - loss: 35.1044 - lr: 8.9125e-04\n"
     ]
    }
   ],
   "source": [
    "# Set the learning rate scheduler\n",
    "lr_schedule = tf.keras.callbacks.LearningRateScheduler(\n",
    "    lambda epoch: 1e-8 * 10**(epoch / 20))\n",
    "\n",
    "# Initialize the optimizer\n",
    "optimizer = tf.keras.optimizers.SGD(momentum=0.9)\n",
    "\n",
    "# Set the training parameters\n",
    "model.compile(loss=tf.keras.losses.Huber(), optimizer=optimizer)\n",
    "\n",
    "# Train the model\n",
    "history = model.fit(train_set, epochs=100, callbacks=[lr_schedule])"
   ]
  },
  {
   "cell_type": "code",
   "execution_count": 14,
   "metadata": {
    "id": "xJFAB1NTzGJV"
   },
   "outputs": [
    {
     "data": {
      "text/plain": [
       "(1e-08, 0.001, 0.0, 100.0)"
      ]
     },
     "execution_count": 14,
     "metadata": {},
     "output_type": "execute_result"
    },
    {
     "data": {
      "image/png": "[encoded data removed]",
      "text/plain": [
       "<Figure size 720x432 with 1 Axes>"
      ]
     },
     "metadata": {
      "needs_background": "light"
     },
     "output_type": "display_data"
    }
   ],
   "source": [
    "# Define the learning rate array\n",
    "lrs = 1e-8 * (10 ** (np.arange(100) / 20))\n",
    "\n",
    "# Set the figure size\n",
    "plt.figure(figsize=(10, 6))\n",
    "\n",
    "# Set the grid\n",
    "plt.grid(True)\n",
    "\n",
    "# Plot the loss in log scale\n",
    "plt.semilogx(lrs, history.history[\"loss\"])\n",
    "\n",
    "# Increase the tickmarks size\n",
    "plt.tick_params('both', length=10, width=1, which='both')\n",
    "\n",
    "# Set the plot boundaries\n",
    "plt.axis([1e-8, 1e-3, 0, 100])"
   ]
  },
  {
   "cell_type": "markdown",
   "metadata": {
    "id": "oY4mnUpNbFdc"
   },
   "source": [
    "## Train the Model\n",
    "\n",
    "Once you've picked a learning rate, you can rebuild the model and start training."
   ]
  },
  {
   "cell_type": "code",
   "execution_count": 15,
   "metadata": {
    "id": "Ngna3zR4znJd"
   },
   "outputs": [],
   "source": [
    "# Reset states generated by Keras\n",
    "tf.keras.backend.clear_session()\n",
    "\n",
    "# Build the Model\n",
    "model = tf.keras.models.Sequential([\n",
    "    tf.keras.layers.Dense(30, input_shape=[window_size], activation=\"relu\"), \n",
    "    tf.keras.layers.Dense(10, activation=\"relu\"),\n",
    "    tf.keras.layers.Dense(1)\n",
    "])"
   ]
  },
  {
   "cell_type": "code",
   "execution_count": 16,
   "metadata": {
    "id": "7FKXvEYxzuoc"
   },
   "outputs": [
    {
     "name": "stdout",
     "output_type": "stream",
     "text": [
      "Epoch 1/100\n",
      "93/93 [==============================] - 1s 4ms/step - loss: 23.1393 - mae: 23.6333\n",
      "Epoch 2/100\n",
      "93/93 [==============================] - 1s 4ms/step - loss: 20.3598 - mae: 20.8533\n",
      "Epoch 3/100\n",
      "93/93 [==============================] - 1s 4ms/step - loss: 19.7906 - mae: 20.2843\n",
      "Epoch 4/100\n",
      "93/93 [==============================] - 1s 4ms/step - loss: 18.7119 - mae: 19.2052\n",
      "Epoch 5/100\n",
      "93/93 [==============================] - 1s 5ms/step - loss: 18.3406 - mae: 18.8344\n",
      "Epoch 6/100\n",
      "93/93 [==============================] - 1s 4ms/step - loss: 18.5509 - mae: 19.0447\n",
      "Epoch 7/100\n",
      "93/93 [==============================] - 1s 4ms/step - loss: 17.9510 - mae: 18.4438\n",
      "Epoch 8/100\n",
      "93/93 [==============================] - 1s 4ms/step - loss: 17.6350 - mae: 18.1262\n",
      "Epoch 9/100\n",
      "93/93 [==============================] - 1s 4ms/step - loss: 17.8815 - mae: 18.3730\n",
      "Epoch 10/100\n",
      "93/93 [==============================] - 1s 4ms/step - loss: 17.7492 - mae: 18.2421\n",
      "Epoch 11/100\n",
      "93/93 [==============================] - 1s 4ms/step - loss: 18.0085 - mae: 18.5000\n",
      "Epoch 12/100\n",
      "93/93 [==============================] - 1s 4ms/step - loss: 17.4886 - mae: 17.9815\n",
      "Epoch 13/100\n",
      "93/93 [==============================] - 1s 4ms/step - loss: 17.8271 - mae: 18.3192\n",
      "Epoch 14/100\n",
      "93/93 [==============================] - 1s 4ms/step - loss: 17.4892 - mae: 17.9806\n",
      "Epoch 15/100\n",
      "93/93 [==============================] - 1s 4ms/step - loss: 17.5608 - mae: 18.0525\n",
      "Epoch 16/100\n",
      "93/93 [==============================] - 1s 4ms/step - loss: 17.9002 - mae: 18.3924\n",
      "Epoch 17/100\n",
      "93/93 [==============================] - 1s 5ms/step - loss: 17.9263 - mae: 18.4195\n",
      "Epoch 18/100\n",
      "93/93 [==============================] - 1s 4ms/step - loss: 17.4317 - mae: 17.9241\n",
      "Epoch 19/100\n",
      "93/93 [==============================] - 1s 5ms/step - loss: 17.4502 - mae: 17.9427\n",
      "Epoch 20/100\n",
      "93/93 [==============================] - 1s 4ms/step - loss: 17.2585 - mae: 17.7500\n",
      "Epoch 21/100\n",
      "93/93 [==============================] - 1s 4ms/step - loss: 17.3816 - mae: 17.8737\n",
      "Epoch 22/100\n",
      "93/93 [==============================] - 1s 4ms/step - loss: 17.2664 - mae: 17.7572\n",
      "Epoch 23/100\n",
      "93/93 [==============================] - 1s 4ms/step - loss: 17.2212 - mae: 17.7117\n",
      "Epoch 24/100\n",
      "93/93 [==============================] - 1s 4ms/step - loss: 17.4965 - mae: 17.9876\n",
      "Epoch 25/100\n",
      "93/93 [==============================] - 1s 4ms/step - loss: 17.0418 - mae: 17.5336\n",
      "Epoch 26/100\n",
      "93/93 [==============================] - 1s 5ms/step - loss: 17.0858 - mae: 17.5768\n",
      "Epoch 27/100\n",
      "93/93 [==============================] - 1s 4ms/step - loss: 17.5148 - mae: 18.0079\n",
      "Epoch 28/100\n",
      "93/93 [==============================] - 1s 5ms/step - loss: 17.0374 - mae: 17.5295\n",
      "Epoch 29/100\n",
      "93/93 [==============================] - 1s 4ms/step - loss: 17.1953 - mae: 17.6876\n",
      "Epoch 30/100\n",
      "93/93 [==============================] - 1s 4ms/step - loss: 17.0934 - mae: 17.5846\n",
      "Epoch 31/100\n",
      "93/93 [==============================] - 1s 4ms/step - loss: 17.1359 - mae: 17.6282\n",
      "Epoch 32/100\n",
      "93/93 [==============================] - 1s 4ms/step - loss: 16.9839 - mae: 17.4744\n",
      "Epoch 33/100\n",
      "93/93 [==============================] - 1s 4ms/step - loss: 16.8835 - mae: 17.3759\n",
      "Epoch 34/100\n",
      "93/93 [==============================] - 1s 4ms/step - loss: 17.0827 - mae: 17.5741\n",
      "Epoch 35/100\n",
      "93/93 [==============================] - 1s 4ms/step - loss: 16.9742 - mae: 17.4650\n",
      "Epoch 36/100\n",
      "93/93 [==============================] - 1s 4ms/step - loss: 16.9065 - mae: 17.3973\n",
      "Epoch 37/100\n",
      "93/93 [==============================] - 1s 4ms/step - loss: 16.8557 - mae: 17.3487\n",
      "Epoch 38/100\n",
      "93/93 [==============================] - 1s 4ms/step - loss: 16.9991 - mae: 17.4907\n",
      "Epoch 39/100\n",
      "93/93 [==============================] - 1s 4ms/step - loss: 17.4530 - mae: 17.9447\n",
      "Epoch 40/100\n",
      "93/93 [==============================] - 1s 4ms/step - loss: 17.0521 - mae: 17.5431\n",
      "Epoch 41/100\n",
      "93/93 [==============================] - 1s 4ms/step - loss: 16.9964 - mae: 17.4877\n",
      "Epoch 42/100\n",
      "93/93 [==============================] - 1s 4ms/step - loss: 17.0065 - mae: 17.4978\n",
      "Epoch 43/100\n",
      "93/93 [==============================] - 1s 4ms/step - loss: 17.0053 - mae: 17.4965\n",
      "Epoch 44/100\n",
      "93/93 [==============================] - 1s 4ms/step - loss: 17.2462 - mae: 17.7383\n",
      "Epoch 45/100\n",
      "93/93 [==============================] - 1s 4ms/step - loss: 16.9018 - mae: 17.3930\n",
      "Epoch 46/100\n",
      "93/93 [==============================] - 1s 4ms/step - loss: 16.8168 - mae: 17.3081\n",
      "Epoch 47/100\n",
      "93/93 [==============================] - 1s 4ms/step - loss: 17.0037 - mae: 17.4945\n",
      "Epoch 48/100\n",
      "93/93 [==============================] - 1s 4ms/step - loss: 16.8025 - mae: 17.2926\n",
      "Epoch 49/100\n",
      "93/93 [==============================] - 1s 4ms/step - loss: 16.8334 - mae: 17.3254\n",
      "Epoch 50/100\n",
      "93/93 [==============================] - 1s 4ms/step - loss: 16.8714 - mae: 17.3617\n",
      "Epoch 51/100\n",
      "93/93 [==============================] - 1s 4ms/step - loss: 17.0353 - mae: 17.5255\n",
      "Epoch 52/100\n",
      "93/93 [==============================] - 1s 4ms/step - loss: 16.9372 - mae: 17.4287\n",
      "Epoch 53/100\n",
      "93/93 [==============================] - 1s 4ms/step - loss: 16.7677 - mae: 17.2591\n",
      "Epoch 54/100\n",
      "93/93 [==============================] - 1s 4ms/step - loss: 16.7832 - mae: 17.2751\n",
      "Epoch 55/100\n",
      "93/93 [==============================] - 1s 4ms/step - loss: 16.7998 - mae: 17.2902\n",
      "Epoch 56/100\n",
      "93/93 [==============================] - 1s 4ms/step - loss: 16.8013 - mae: 17.2928\n",
      "Epoch 57/100\n",
      "93/93 [==============================] - 1s 4ms/step - loss: 16.6543 - mae: 17.1453\n",
      "Epoch 58/100\n",
      "93/93 [==============================] - 1s 4ms/step - loss: 16.9731 - mae: 17.4639\n",
      "Epoch 59/100\n",
      "93/93 [==============================] - 1s 4ms/step - loss: 16.8886 - mae: 17.3807\n",
      "Epoch 60/100\n",
      "93/93 [==============================] - 1s 5ms/step - loss: 16.7396 - mae: 17.2319\n",
      "Epoch 61/100\n",
      "93/93 [==============================] - 1s 4ms/step - loss: 16.8959 - mae: 17.3876\n",
      "Epoch 62/100\n",
      "93/93 [==============================] - 1s 4ms/step - loss: 16.6947 - mae: 17.1860\n",
      "Epoch 63/100\n",
      "93/93 [==============================] - 1s 4ms/step - loss: 16.8004 - mae: 17.2930\n",
      "Epoch 64/100\n",
      "93/93 [==============================] - 1s 4ms/step - loss: 16.7327 - mae: 17.2233\n",
      "Epoch 65/100\n",
      "93/93 [==============================] - 1s 5ms/step - loss: 16.6217 - mae: 17.1138\n",
      "Epoch 66/100\n",
      "93/93 [==============================] - 1s 4ms/step - loss: 16.9026 - mae: 17.3944\n",
      "Epoch 67/100\n",
      "93/93 [==============================] - 1s 4ms/step - loss: 16.8692 - mae: 17.3607\n",
      "Epoch 68/100\n",
      "93/93 [==============================] - 1s 4ms/step - loss: 16.6279 - mae: 17.1191\n",
      "Epoch 69/100\n",
      "93/93 [==============================] - 1s 4ms/step - loss: 16.7170 - mae: 17.2081\n",
      "Epoch 70/100\n",
      "93/93 [==============================] - 1s 4ms/step - loss: 16.8549 - mae: 17.3469\n",
      "Epoch 71/100\n",
      "93/93 [==============================] - 1s 5ms/step - loss: 16.8432 - mae: 17.3348\n",
      "Epoch 72/100\n",
      "93/93 [==============================] - 1s 4ms/step - loss: 17.1962 - mae: 17.6878\n",
      "Epoch 73/100\n",
      "93/93 [==============================] - 1s 4ms/step - loss: 16.7159 - mae: 17.2077\n",
      "Epoch 74/100\n",
      "93/93 [==============================] - 1s 4ms/step - loss: 16.7925 - mae: 17.2830\n",
      "Epoch 75/100\n",
      "93/93 [==============================] - 1s 4ms/step - loss: 16.5163 - mae: 17.0075\n",
      "Epoch 76/100\n",
      "93/93 [==============================] - 1s 4ms/step - loss: 16.6425 - mae: 17.1338\n",
      "Epoch 77/100\n",
      "93/93 [==============================] - 1s 4ms/step - loss: 16.5766 - mae: 17.0671\n",
      "Epoch 78/100\n",
      "93/93 [==============================] - 1s 4ms/step - loss: 16.7285 - mae: 17.2189\n",
      "Epoch 79/100\n",
      "93/93 [==============================] - 1s 4ms/step - loss: 16.5789 - mae: 17.0712\n",
      "Epoch 80/100\n",
      "93/93 [==============================] - 1s 4ms/step - loss: 16.6855 - mae: 17.1771\n",
      "Epoch 81/100\n",
      "93/93 [==============================] - 1s 4ms/step - loss: 16.6664 - mae: 17.1571\n",
      "Epoch 82/100\n",
      "93/93 [==============================] - 1s 4ms/step - loss: 16.7252 - mae: 17.2167\n",
      "Epoch 83/100\n",
      "93/93 [==============================] - 1s 4ms/step - loss: 16.9224 - mae: 17.4142\n",
      "Epoch 84/100\n",
      "93/93 [==============================] - 1s 4ms/step - loss: 16.6514 - mae: 17.1418\n",
      "Epoch 85/100\n",
      "93/93 [==============================] - 1s 4ms/step - loss: 16.6602 - mae: 17.1518\n",
      "Epoch 86/100\n",
      "93/93 [==============================] - 1s 5ms/step - loss: 16.8186 - mae: 17.3102\n",
      "Epoch 87/100\n",
      "93/93 [==============================] - 1s 5ms/step - loss: 16.7314 - mae: 17.2226\n",
      "Epoch 88/100\n",
      "93/93 [==============================] - 1s 4ms/step - loss: 16.5650 - mae: 17.0572\n",
      "Epoch 89/100\n",
      "93/93 [==============================] - 1s 4ms/step - loss: 16.5525 - mae: 17.0429\n",
      "Epoch 90/100\n",
      "93/93 [==============================] - 1s 4ms/step - loss: 16.6621 - mae: 17.1532\n",
      "Epoch 91/100\n",
      "93/93 [==============================] - 1s 4ms/step - loss: 16.4776 - mae: 16.9693\n",
      "Epoch 92/100\n",
      "93/93 [==============================] - 1s 4ms/step - loss: 16.5488 - mae: 17.0383\n",
      "Epoch 93/100\n",
      "93/93 [==============================] - 1s 4ms/step - loss: 16.7284 - mae: 17.2190\n",
      "Epoch 94/100\n",
      "93/93 [==============================] - 1s 4ms/step - loss: 16.5212 - mae: 17.0110\n",
      "Epoch 95/100\n",
      "93/93 [==============================] - 1s 4ms/step - loss: 16.6212 - mae: 17.1122\n",
      "Epoch 96/100\n",
      "93/93 [==============================] - 1s 4ms/step - loss: 16.6489 - mae: 17.1409\n",
      "Epoch 97/100\n",
      "93/93 [==============================] - 1s 5ms/step - loss: 16.4900 - mae: 16.9801\n",
      "Epoch 98/100\n",
      "93/93 [==============================] - 1s 4ms/step - loss: 16.5627 - mae: 17.0533\n",
      "Epoch 99/100\n",
      "93/93 [==============================] - 1s 4ms/step - loss: 16.4852 - mae: 16.9763\n",
      "Epoch 100/100\n",
      "93/93 [==============================] - 1s 4ms/step - loss: 16.5459 - mae: 17.0366\n"
     ]
    }
   ],
   "source": [
    "# Set the learning rate\n",
    "learning_rate = 2e-5\n",
    "\n",
    "# Set the optimizer \n",
    "optimizer = tf.keras.optimizers.SGD(learning_rate=learning_rate, momentum=0.9)\n",
    "\n",
    "# Set the training parameters\n",
    "model.compile(loss=tf.keras.losses.Huber(),\n",
    "              optimizer=optimizer,\n",
    "              metrics=[\"mae\"])\n",
    "\n",
    "# Train the model\n",
    "history = model.fit(train_set,epochs=100)"
   ]
  },
  {
   "cell_type": "markdown",
   "metadata": {
    "id": "b1iV2t8ibIka"
   },
   "source": [
    "## Model Prediction\n",
    "\n",
    "Now see if the model generates good results. If you used the default parameters of this notebook, you should see the predictions follow the shape of the ground truth with an MAE of around 15. "
   ]
  },
  {
   "cell_type": "code",
   "execution_count": 17,
   "metadata": {
    "id": "djn06Tri2B6_"
   },
   "outputs": [],
   "source": [
    "def model_forecast(model, series, window_size, batch_size):\n",
    "    \"\"\"Uses an input model to generate predictions on data windows\n",
    "\n",
    "    Args:\n",
    "      model (TF Keras Model) - model that accepts data windows\n",
    "      series (array of float) - contains the values of the time series\n",
    "      window_size (int) - the number of time steps to include in the window\n",
    "      batch_size (int) - the batch size\n",
    "\n",
    "    Returns:\n",
    "      forecast (numpy array) - array containing predictions\n",
    "    \"\"\"\n",
    "\n",
    "    # Generate a TF Dataset from the series values\n",
    "    dataset = tf.data.Dataset.from_tensor_slices(series)\n",
    "\n",
    "    # Window the data but only take those with the specified size\n",
    "    dataset = dataset.window(window_size, shift=1, drop_remainder=True)\n",
    "\n",
    "    # Flatten the windows by putting its elements in a single batch\n",
    "    dataset = dataset.flat_map(lambda w: w.batch(window_size))\n",
    "    \n",
    "    # Create batches of windows\n",
    "    dataset = dataset.batch(batch_size).prefetch(1)\n",
    "    \n",
    "    # Get predictions on the entire dataset\n",
    "    forecast = model.predict(dataset)\n",
    "    \n",
    "    return forecast"
   ]
  },
  {
   "cell_type": "code",
   "execution_count": 18,
   "metadata": {
    "id": "GaC6NNMRp0lb"
   },
   "outputs": [
    {
     "name": "stdout",
     "output_type": "stream",
     "text": [
      "8/8 [==============================] - 0s 7ms/step\n"
     ]
    },
    {
     "name": "stderr",
     "output_type": "stream",
     "text": [
      "2023-07-04 12:29:58.815375: I tensorflow/core/common_runtime/executor.cc:1197] [/device:CPU:0] (DEBUG INFO) Executor start aborting (this does not indicate an error and you can ignore this message): INVALID_ARGUMENT: You must feed a value for placeholder tensor 'Placeholder/_0' with dtype double and shape [264]\n",
      "\t [[{{node Placeholder/_0}}]]\n",
      "2023-07-04 12:29:58.815858: I tensorflow/core/common_runtime/executor.cc:1197] [/device:CPU:0] (DEBUG INFO) Executor start aborting (this does not indicate an error and you can ignore this message): INVALID_ARGUMENT: You must feed a value for placeholder tensor 'Placeholder/_0' with dtype double and shape [264]\n",
      "\t [[{{node Placeholder/_0}}]]\n"
     ]
    },
    {
     "data": {
      "image/png": "[encoded data removed]",
      "text/plain": [
       "<Figure size 720x432 with 1 Axes>"
      ]
     },
     "metadata": {
      "needs_background": "light"
     },
     "output_type": "display_data"
    }
   ],
   "source": [
    "# Reduce the original series\n",
    "forecast_series = series[split_time-window_size:-1]\n",
    "\n",
    "# Use helper function to generate predictions\n",
    "forecast = model_forecast(model, forecast_series, window_size, batch_size)\n",
    "\n",
    "# Drop single dimensional axis\n",
    "results = forecast.squeeze()\n",
    "\n",
    "# Plot the results\n",
    "plot_series(time_valid, (x_valid, results))"
   ]
  },
  {
   "cell_type": "code",
   "execution_count": 19,
   "metadata": {
    "id": "13XrorC5wQoE"
   },
   "outputs": [
    {
     "name": "stdout",
     "output_type": "stream",
     "text": [
      "15.737335\n"
     ]
    }
   ],
   "source": [
    "# Compute the MAE\n",
    "print(tf.keras.metrics.mean_absolute_error(x_valid, results).numpy())"
   ]
  },
  {
   "cell_type": "markdown",
   "metadata": {
    "id": "YqMGN9S5veN2"
   },
   "source": [
    "## Wrap Up\n",
    "\n",
    "In this lab, you built a relatively simple DNN to forecast sunspot numbers for a given month. We encourage you to tweak the parameters or train longer and see the best results you can get. In the next lab, you will build a more complex model and you evaluate if the added complexity translates to better or worse results."
   ]
  }
 ],
 "metadata": {
  "colab": {
   "collapsed_sections": [],
   "name": "C4_W4_Lab_2_Sunspots_DNN.ipynb",
   "private_outputs": true,
   "provenance": [
    {
     "file_id": "https://github.com/https-deeplearning-ai/tensorflow-1-public/blob/adding_C4/C4/W4/ungraded_labs/C4_W4_Lab_3_DNN_only.ipynb",
     "timestamp": 1641292790865
    }
   ]
  },
  "kernelspec": {
   "display_name": "Python 3",
   "language": "python",
   "name": "python3"
  },
  "language_info": {
   "codemirror_mode": {
    "name": "ipython",
    "version": 3
   },
   "file_extension": ".py",
   "mimetype": "text/x-python",
   "name": "python",
   "nbconvert_exporter": "python",
   "pygments_lexer": "ipython3",
   "version": "3.10.6"
  }
 },
 "nbformat": 4,
 "nbformat_minor": 1
}
