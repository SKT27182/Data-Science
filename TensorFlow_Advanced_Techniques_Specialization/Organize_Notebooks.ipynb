{
 "cells": [
  {
   "cell_type": "markdown",
   "metadata": {},
   "source": [
    "### Removing whitespace"
   ]
  },
  {
   "cell_type": "code",
   "execution_count": 1,
   "metadata": {},
   "outputs": [],
   "source": [
    "from files.files import remove_spaces\n",
    "remove_spaces()"
   ]
  },
  {
   "cell_type": "markdown",
   "metadata": {},
   "source": [
    "### Converting the notes to HTML"
   ]
  },
  {
   "cell_type": "code",
   "execution_count": 16,
   "metadata": {},
   "outputs": [],
   "source": [
    "from html_setup.notebook import Notebook\n",
    "import os\n",
    "course = \"4_Generative_Deep_Learning_with_TensorFlow\"\n",
    "f = Notebook(course)"
   ]
  },
  {
   "cell_type": "code",
   "execution_count": 17,
   "metadata": {},
   "outputs": [
    {
     "name": "stdout",
     "output_type": "stream",
     "text": [
      "Converting C4_W4_Lab_1_First_GAN.ipynb\n",
      "Converting C4_W4_Lab_2_First_DCGAN.ipynb\n",
      "Converting C4_W4_Lab_3_CelebA_GAN_Experiments.ipynb\n",
      "Converting C4_W4_LabAssign_4_GANs_with_Hands.ipynb\n",
      "Converting C4_W3_Lab_1_VAE_MNIST.ipynb\n",
      "Converting Copy_of_cvae.ipynb\n",
      "Converting C4_W3_LabAssign_2_VAE_Anime_Faces.ipynb\n",
      "Converting C4_W1_Lab_2_Fast_NST.ipynb\n",
      "Converting C4_W1_Lab_1_Neural_Style_Transfer.ipynb\n",
      "Converting C4_W1_LabAssign_Neural_style_transfer_Inception.ipynb\n",
      "Converting C4_W2_Lab_2_MNIST_Autoencoder.ipynb\n",
      "Converting C4_W2_Lab_5_FashionMNIST_NoisyCNNAutoEncoder.ipynb\n",
      "Converting C4_W2_Lab_1_FirstAutoEncoder.ipynb\n",
      "Converting C4_W2_LabAssign_6_Cifar10.ipynb\n",
      "Converting C4_W2_Lab_4_FashionMNIST_CNNAutoEncoder.ipynb\n",
      "Converting C4_W2_Lab_3_MNIST_DeepAutoencoder.ipynb\n"
     ]
    }
   ],
   "source": [
    "outputs = []\n",
    "for folder, _, files in os.walk(course):\n",
    "    for file in files:\n",
    "        if file.endswith('.ipynb'):\n",
    "            file_path = os.path.join(folder, file)\n",
    "            if \".ipynb_checkpoints\" in file_path:\n",
    "                continue\n",
    "            \n",
    "            print(f\"Converting {file}\")\n",
    "            try:\n",
    "                output = f.export_notebook(file_path)\n",
    "                outputs.append(output)\n",
    "            except Exception as e:\n",
    "                print(f\"Error converting {file}\")\n",
    "                print(e)"
   ]
  },
  {
   "cell_type": "markdown",
   "metadata": {},
   "source": [
    "### Adding them to index.html"
   ]
  },
  {
   "cell_type": "code",
   "execution_count": 18,
   "metadata": {},
   "outputs": [
    {
     "data": {
      "text/plain": [
       "(['4_Generative_Deep_Learning_with_TensorFlow/Week_1/C4_W1_LabAssign_Neural_style_transfer_Inception.html',\n",
       "  '4_Generative_Deep_Learning_with_TensorFlow/Week_1/C4_W1_Lab_1_Neural_Style_Transfer.html',\n",
       "  '4_Generative_Deep_Learning_with_TensorFlow/Week_1/C4_W1_Lab_2_Fast_NST.html',\n",
       "  '4_Generative_Deep_Learning_with_TensorFlow/Week_2/C4_W2_LabAssign_6_Cifar10.html',\n",
       "  '4_Generative_Deep_Learning_with_TensorFlow/Week_2/C4_W2_Lab_1_FirstAutoEncoder.html',\n",
       "  '4_Generative_Deep_Learning_with_TensorFlow/Week_2/C4_W2_Lab_2_MNIST_Autoencoder.html',\n",
       "  '4_Generative_Deep_Learning_with_TensorFlow/Week_2/C4_W2_Lab_3_MNIST_DeepAutoencoder.html',\n",
       "  '4_Generative_Deep_Learning_with_TensorFlow/Week_2/C4_W2_Lab_4_FashionMNIST_CNNAutoEncoder.html',\n",
       "  '4_Generative_Deep_Learning_with_TensorFlow/Week_2/C4_W2_Lab_5_FashionMNIST_NoisyCNNAutoEncoder.html',\n",
       "  '4_Generative_Deep_Learning_with_TensorFlow/Week_3/C4_W3_LabAssign_2_VAE_Anime_Faces.html',\n",
       "  '4_Generative_Deep_Learning_with_TensorFlow/Week_3/C4_W3_Lab_1_VAE_MNIST.html',\n",
       "  '4_Generative_Deep_Learning_with_TensorFlow/Week_3/Copy_of_cvae.html',\n",
       "  '4_Generative_Deep_Learning_with_TensorFlow/Week_4/C4_W4_LabAssign_4_GANs_with_Hands.html',\n",
       "  '4_Generative_Deep_Learning_with_TensorFlow/Week_4/C4_W4_Lab_1_First_GAN.html',\n",
       "  '4_Generative_Deep_Learning_with_TensorFlow/Week_4/C4_W4_Lab_2_First_DCGAN.html',\n",
       "  '4_Generative_Deep_Learning_with_TensorFlow/Week_4/C4_W4_Lab_3_CelebA_GAN_Experiments.html'],\n",
       " 16)"
      ]
     },
     "execution_count": 18,
     "metadata": {},
     "output_type": "execute_result"
    }
   ],
   "source": [
    "outputs = sorted(outputs)\n",
    "outputs, len(outputs)"
   ]
  },
  {
   "cell_type": "code",
   "execution_count": 5,
   "metadata": {},
   "outputs": [
    {
     "data": {
      "text/plain": [
       "'1/C1_W1_LabAssign_1_Multiple_Output_Model.html'"
      ]
     },
     "execution_count": 5,
     "metadata": {},
     "output_type": "execute_result"
    }
   ],
   "source": [
    "title = \"1_Custom_Models_Layers_and_Loss_Functions/Week_1/C1_W1_LabAssign_1_Multiple_Output_Model.html\"\n",
    "\"_\".join(title.split(\"_\")[7:])"
   ]
  },
  {
   "cell_type": "code",
   "execution_count": 19,
   "metadata": {},
   "outputs": [
    {
     "name": "stdout",
     "output_type": "stream",
     "text": [
      "<li>\n",
      "        <a href=\"TensorFlow_Advanced_Techniques_Specialization/4_Generative_Deep_Learning_with_TensorFlow/Week_1/C4_W1_LabAssign_Neural_style_transfer_Inception.html\" target = 'blank' class = 'links'>Style Transfer Inception</a>\n",
      "        </li>\n",
      "        <li>\n",
      "        <a href=\"TensorFlow_Advanced_Techniques_Specialization/4_Generative_Deep_Learning_with_TensorFlow/Week_1/C4_W1_Lab_1_Neural_Style_Transfer.html\" target = 'blank' class = 'links'>Neural Style Transfer</a>\n",
      "        </li>\n",
      "        <li>\n",
      "        <a href=\"TensorFlow_Advanced_Techniques_Specialization/4_Generative_Deep_Learning_with_TensorFlow/Week_1/C4_W1_Lab_2_Fast_NST.html\" target = 'blank' class = 'links'>Fast Nst</a>\n",
      "        </li>\n",
      "        <li>\n",
      "        <a href=\"TensorFlow_Advanced_Techniques_Specialization/4_Generative_Deep_Learning_with_TensorFlow/Week_2/C4_W2_LabAssign_6_Cifar10.html\" target = 'blank' class = 'links'>Cifar10</a>\n",
      "        </li>\n",
      "        <li>\n",
      "        <a href=\"TensorFlow_Advanced_Techniques_Specialization/4_Generative_Deep_Learning_with_TensorFlow/Week_2/C4_W2_Lab_1_FirstAutoEncoder.html\" target = 'blank' class = 'links'>Firstautoencoder</a>\n",
      "        </li>\n",
      "        <li>\n",
      "        <a href=\"TensorFlow_Advanced_Techniques_Specialization/4_Generative_Deep_Learning_with_TensorFlow/Week_2/C4_W2_Lab_2_MNIST_Autoencoder.html\" target = 'blank' class = 'links'>Mnist Autoencoder</a>\n",
      "        </li>\n",
      "        <li>\n",
      "        <a href=\"TensorFlow_Advanced_Techniques_Specialization/4_Generative_Deep_Learning_with_TensorFlow/Week_2/C4_W2_Lab_3_MNIST_DeepAutoencoder.html\" target = 'blank' class = 'links'>Mnist Deepautoencoder</a>\n",
      "        </li>\n",
      "        <li>\n",
      "        <a href=\"TensorFlow_Advanced_Techniques_Specialization/4_Generative_Deep_Learning_with_TensorFlow/Week_2/C4_W2_Lab_4_FashionMNIST_CNNAutoEncoder.html\" target = 'blank' class = 'links'>Fashionmnist Cnnautoencoder</a>\n",
      "        </li>\n",
      "        <li>\n",
      "        <a href=\"TensorFlow_Advanced_Techniques_Specialization/4_Generative_Deep_Learning_with_TensorFlow/Week_2/C4_W2_Lab_5_FashionMNIST_NoisyCNNAutoEncoder.html\" target = 'blank' class = 'links'>Fashionmnist Noisycnnautoencoder</a>\n",
      "        </li>\n",
      "        <li>\n",
      "        <a href=\"TensorFlow_Advanced_Techniques_Specialization/4_Generative_Deep_Learning_with_TensorFlow/Week_3/C4_W3_LabAssign_2_VAE_Anime_Faces.html\" target = 'blank' class = 'links'>Vae Anime Faces</a>\n",
      "        </li>\n",
      "        <li>\n",
      "        <a href=\"TensorFlow_Advanced_Techniques_Specialization/4_Generative_Deep_Learning_with_TensorFlow/Week_3/C4_W3_Lab_1_VAE_MNIST.html\" target = 'blank' class = 'links'>Vae Mnist</a>\n",
      "        </li>\n",
      "        <li>\n",
      "        <a href=\"TensorFlow_Advanced_Techniques_Specialization/4_Generative_Deep_Learning_with_TensorFlow/Week_3/Copy_of_cvae.html\" target = 'blank' class = 'links'></a>\n",
      "        </li>\n",
      "        <li>\n",
      "        <a href=\"TensorFlow_Advanced_Techniques_Specialization/4_Generative_Deep_Learning_with_TensorFlow/Week_4/C4_W4_LabAssign_4_GANs_with_Hands.html\" target = 'blank' class = 'links'>Gans With Hands</a>\n",
      "        </li>\n",
      "        <li>\n",
      "        <a href=\"TensorFlow_Advanced_Techniques_Specialization/4_Generative_Deep_Learning_with_TensorFlow/Week_4/C4_W4_Lab_1_First_GAN.html\" target = 'blank' class = 'links'>First Gan</a>\n",
      "        </li>\n",
      "        <li>\n",
      "        <a href=\"TensorFlow_Advanced_Techniques_Specialization/4_Generative_Deep_Learning_with_TensorFlow/Week_4/C4_W4_Lab_2_First_DCGAN.html\" target = 'blank' class = 'links'>First Dcgan</a>\n",
      "        </li>\n",
      "        <li>\n",
      "        <a href=\"TensorFlow_Advanced_Techniques_Specialization/4_Generative_Deep_Learning_with_TensorFlow/Week_4/C4_W4_Lab_3_CelebA_GAN_Experiments.html\" target = 'blank' class = 'links'>Celeba Gan Experiments</a>\n",
      "        </li>\n",
      "        \n"
     ]
    }
   ],
   "source": [
    "string = ''\n",
    "for file_path in outputs:\n",
    "    final_path = file_path  #'/'.join(file_path.split(\"\\\\\")[1:])\n",
    "    if \".ipynb_checkpoints\" in final_path:\n",
    "        pass\n",
    "    else:\n",
    "        title = final_path.split(\"/\")[-1]\n",
    "        title = \"_\".join(title.split(\"_\")[4:])\n",
    "        title = title.split(\".\")[0]\n",
    "        title = title.replace(\"_\", \" \").title()\n",
    "        txt = f\"\"\"<li>\n",
    "        <a href=\"TensorFlow_Advanced_Techniques_Specialization/{final_path}\" target = 'blank' class = 'links'>{title}</a>\n",
    "        </li>\n",
    "        \"\"\"\n",
    "        string += txt\n",
    "\n",
    "print(string)"
   ]
  },
  {
   "cell_type": "code",
   "execution_count": null,
   "metadata": {},
   "outputs": [],
   "source": []
  }
 ],
 "metadata": {
  "kernelspec": {
   "display_name": "my_env",
   "language": "python",
   "name": "python3"
  },
  "language_info": {
   "codemirror_mode": {
    "name": "ipython",
    "version": 3
   },
   "file_extension": ".py",
   "mimetype": "text/x-python",
   "name": "python",
   "nbconvert_exporter": "python",
   "pygments_lexer": "ipython3",
   "version": "3.10.6"
  },
  "orig_nbformat": 4,
  "vscode": {
   "interpreter": {
    "hash": "333ad066d239af8659780667608f3e14a8c59d1eb92890b0405dfaef9e357b30"
   }
  }
 },
 "nbformat": 4,
 "nbformat_minor": 2
}
