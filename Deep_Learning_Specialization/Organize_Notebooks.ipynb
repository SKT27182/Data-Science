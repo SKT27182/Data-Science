{
 "cells": [
  {
   "cell_type": "markdown",
   "metadata": {},
   "source": [
    "### Removing whitespace"
   ]
  },
  {
   "cell_type": "code",
   "execution_count": 1,
   "metadata": {},
   "outputs": [
    {
     "name": "stdout",
     "output_type": "stream",
     "text": [
      "finaloutline.png\n",
      "Drive.aiDatasetSampleLICENSE\n",
      "SILOpenFontLicense.txt\n"
     ]
    }
   ],
   "source": [
    "from files.files import remove_spaces\n",
    "remove_spaces()"
   ]
  },
  {
   "cell_type": "markdown",
   "metadata": {},
   "source": [
    "### Converting the notes to HTML"
   ]
  },
  {
   "cell_type": "code",
   "execution_count": 8,
   "metadata": {},
   "outputs": [],
   "source": [
    "from html_setup.notebook import Notebook\n",
    "import os\n",
    "course = \"5_Sequence_Models\"\n",
    "f = Notebook(course)"
   ]
  },
  {
   "cell_type": "code",
   "execution_count": 9,
   "metadata": {},
   "outputs": [
    {
     "name": "stdout",
     "output_type": "stream",
     "text": [
      "Converting C5_W4_LabAssign_1_Transformer_Subclass.ipynb\n",
      "Converting C5_W4_Lab_2_Embedding_plus_Positional_encoding.ipynb\n",
      "Converting C5_W4_Lab_3_Transformer_application_Named_Entity_Recognition.ipynb\n",
      "Converting C5_W4_Lab_4_QA_dataset.ipynb\n",
      "Converting C5_W3_LabAssign_1_Neural_machine_translation_with_attention_v4a.ipynb\n",
      "Converting C5_W3_LabAssign_2_Trigger_word_detection_v2a.ipynb\n",
      "Converting C5_W1_LabAssign_2_Dinosaurus_Island_Character_level_language_model.ipynb\n",
      "Converting C5_W1_LabAssign_3_Improvise_a_Jazz_Solo_with_an_LSTM_Network_v4.ipynb\n",
      "Converting C5_W1_LabAssign_1_Building_a_Recurrent_Neural_Network_Step_by_Step.ipynb\n",
      "Converting C5_W2_LabAssign_2_Emoji_v3a.ipynb\n",
      "Converting C5_W2_LabAssign_1_Operations_on_word_vectors_v2a.ipynb\n"
     ]
    }
   ],
   "source": [
    "outputs = []\n",
    "for folder, _, files in os.walk(course):\n",
    "    for file in files:\n",
    "        if file.endswith('.ipynb'):\n",
    "            file_path = os.path.join(folder, file)\n",
    "            if \".ipynb_checkpoints\" in file_path:\n",
    "                continue\n",
    "            \n",
    "            print(f\"Converting {file}\")\n",
    "            try:\n",
    "                output = f.export_notebook(file_path)\n",
    "                outputs.append(output)\n",
    "            except Exception as e:\n",
    "                print(f\"Error converting {file}\")\n",
    "                print(e)"
   ]
  },
  {
   "cell_type": "markdown",
   "metadata": {},
   "source": [
    "### Adding them to index.html"
   ]
  },
  {
   "cell_type": "code",
   "execution_count": 10,
   "metadata": {},
   "outputs": [
    {
     "data": {
      "text/plain": [
       "['5_Sequence_Models/Week_1/C5_W1_LabAssign_1_Building_a_Recurrent_Neural_Network_Step_by_Step.html',\n",
       " '5_Sequence_Models/Week_1/C5_W1_LabAssign_2_Dinosaurus_Island_Character_level_language_model.html',\n",
       " '5_Sequence_Models/Week_1/C5_W1_LabAssign_3_Improvise_a_Jazz_Solo_with_an_LSTM_Network_v4.html',\n",
       " '5_Sequence_Models/Week_2/C5_W2_LabAssign_1_Operations_on_word_vectors_v2a.html',\n",
       " '5_Sequence_Models/Week_2/C5_W2_LabAssign_2_Emoji_v3a.html',\n",
       " '5_Sequence_Models/Week_3/C5_W3_LabAssign_1_Neural_machine_translation_with_attention_v4a.html',\n",
       " '5_Sequence_Models/Week_3/C5_W3_LabAssign_2_Trigger_word_detection_v2a.html',\n",
       " '5_Sequence_Models/Week_4/C5_W4_LabAssign_1_Transformer_Subclass.html',\n",
       " '5_Sequence_Models/Week_4/C5_W4_Lab_2_Embedding_plus_Positional_encoding.html',\n",
       " '5_Sequence_Models/Week_4/C5_W4_Lab_3_Transformer_application_Named_Entity_Recognition.html',\n",
       " '5_Sequence_Models/Week_4/C5_W4_Lab_4_QA_dataset.html']"
      ]
     },
     "execution_count": 10,
     "metadata": {},
     "output_type": "execute_result"
    }
   ],
   "source": [
    "outputs = sorted(outputs)\n",
    "outputs"
   ]
  },
  {
   "cell_type": "code",
   "execution_count": 11,
   "metadata": {},
   "outputs": [
    {
     "data": {
      "text/plain": [
       "'1_Initialization.html'"
      ]
     },
     "execution_count": 11,
     "metadata": {},
     "output_type": "execute_result"
    }
   ],
   "source": [
    "title = \"2_Improving_Neural_network/Week_1/C2_W1_Lab_1_Initialization.html\"\n",
    "\"_\".join(title.split(\"_\")[7:])"
   ]
  },
  {
   "cell_type": "code",
   "execution_count": 12,
   "metadata": {},
   "outputs": [
    {
     "name": "stdout",
     "output_type": "stream",
     "text": [
      "<li>\n",
      "        <a href=\"Deep_Learning_Specialization/5_Sequence_Models/Week_1/C5_W1_LabAssign_1_Building_a_Recurrent_Neural_Network_Step_by_Step.html\" target = 'blank' class = 'links'>Building A Recurrent Neural Network Step By Step</a>\n",
      "        </li>\n",
      "        <li>\n",
      "        <a href=\"Deep_Learning_Specialization/5_Sequence_Models/Week_1/C5_W1_LabAssign_2_Dinosaurus_Island_Character_level_language_model.html\" target = 'blank' class = 'links'>Dinosaurus Island Character Level Language Model</a>\n",
      "        </li>\n",
      "        <li>\n",
      "        <a href=\"Deep_Learning_Specialization/5_Sequence_Models/Week_1/C5_W1_LabAssign_3_Improvise_a_Jazz_Solo_with_an_LSTM_Network_v4.html\" target = 'blank' class = 'links'>Improvise A Jazz Solo With An Lstm Network V4</a>\n",
      "        </li>\n",
      "        <li>\n",
      "        <a href=\"Deep_Learning_Specialization/5_Sequence_Models/Week_2/C5_W2_LabAssign_1_Operations_on_word_vectors_v2a.html\" target = 'blank' class = 'links'>Operations On Word Vectors V2A</a>\n",
      "        </li>\n",
      "        <li>\n",
      "        <a href=\"Deep_Learning_Specialization/5_Sequence_Models/Week_2/C5_W2_LabAssign_2_Emoji_v3a.html\" target = 'blank' class = 'links'>Emoji V3A</a>\n",
      "        </li>\n",
      "        <li>\n",
      "        <a href=\"Deep_Learning_Specialization/5_Sequence_Models/Week_3/C5_W3_LabAssign_1_Neural_machine_translation_with_attention_v4a.html\" target = 'blank' class = 'links'>Neural Machine Translation With Attention V4A</a>\n",
      "        </li>\n",
      "        <li>\n",
      "        <a href=\"Deep_Learning_Specialization/5_Sequence_Models/Week_3/C5_W3_LabAssign_2_Trigger_word_detection_v2a.html\" target = 'blank' class = 'links'>Trigger Word Detection V2A</a>\n",
      "        </li>\n",
      "        <li>\n",
      "        <a href=\"Deep_Learning_Specialization/5_Sequence_Models/Week_4/C5_W4_LabAssign_1_Transformer_Subclass.html\" target = 'blank' class = 'links'>Transformer Subclass</a>\n",
      "        </li>\n",
      "        <li>\n",
      "        <a href=\"Deep_Learning_Specialization/5_Sequence_Models/Week_4/C5_W4_Lab_2_Embedding_plus_Positional_encoding.html\" target = 'blank' class = 'links'>Embedding Plus Positional Encoding</a>\n",
      "        </li>\n",
      "        <li>\n",
      "        <a href=\"Deep_Learning_Specialization/5_Sequence_Models/Week_4/C5_W4_Lab_3_Transformer_application_Named_Entity_Recognition.html\" target = 'blank' class = 'links'>Transformer Application Named Entity Recognition</a>\n",
      "        </li>\n",
      "        <li>\n",
      "        <a href=\"Deep_Learning_Specialization/5_Sequence_Models/Week_4/C5_W4_Lab_4_QA_dataset.html\" target = 'blank' class = 'links'>Qa Dataset</a>\n",
      "        </li>\n",
      "        \n"
     ]
    }
   ],
   "source": [
    "string = ''\n",
    "for file_path in outputs:\n",
    "    final_path = file_path  #'/'.join(file_path.split(\"\\\\\")[1:])\n",
    "    if \".ipynb_checkpoints\" in final_path:\n",
    "        pass\n",
    "    else:\n",
    "        title = final_path.split(\"/\")[-1]\n",
    "        title = \"_\".join(title.split(\"_\")[4:])\n",
    "        title = title.split(\".\")[0]\n",
    "        title = title.replace(\"_\", \" \").title()\n",
    "        txt = f\"\"\"<li>\n",
    "        <a href=\"Deep_Learning_Specialization/{final_path}\" target = 'blank' class = 'links'>{title}</a>\n",
    "        </li>\n",
    "        \"\"\"\n",
    "        string += txt\n",
    "\n",
    "print(string)"
   ]
  },
  {
   "cell_type": "code",
   "execution_count": null,
   "metadata": {},
   "outputs": [],
   "source": []
  }
 ],
 "metadata": {
  "kernelspec": {
   "display_name": "my_env",
   "language": "python",
   "name": "python3"
  },
  "language_info": {
   "codemirror_mode": {
    "name": "ipython",
    "version": 3
   },
   "file_extension": ".py",
   "mimetype": "text/x-python",
   "name": "python",
   "nbconvert_exporter": "python",
   "pygments_lexer": "ipython3",
   "version": "3.10.6"
  },
  "orig_nbformat": 4,
  "vscode": {
   "interpreter": {
    "hash": "333ad066d239af8659780667608f3e14a8c59d1eb92890b0405dfaef9e357b30"
   }
  }
 },
 "nbformat": 4,
 "nbformat_minor": 2
}
